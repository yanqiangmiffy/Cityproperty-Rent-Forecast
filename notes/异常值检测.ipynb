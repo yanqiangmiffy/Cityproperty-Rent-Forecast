{
 "cells": [
  {
   "cell_type": "code",
   "execution_count": 20,
   "metadata": {},
   "outputs": [],
   "source": [
    "import pandas as pd\n",
    "import seaborn as sns\n",
    "import matplotlib.pyplot as plt\n",
    "import numpy as np"
   ]
  },
  {
   "cell_type": "code",
   "execution_count": 76,
   "metadata": {},
   "outputs": [
    {
     "name": "stdout",
     "output_type": "stream",
     "text": [
      "(41440, 51)\n",
      "(41402, 51)\n"
     ]
    }
   ],
   "source": [
    "train=pd.read_csv('../input/train_data.csv')\n",
    "print(train.shape)\n",
    "train = train.query(\"tradeMoney<70000\")\n",
    "print(train.shape)"
   ]
  },
  {
   "cell_type": "markdown",
   "metadata": {},
   "source": [
    "## 异常值检测\n",
    "利用箱型图的四分位距（IQR）对异常值进行检测，也叫Tukey‘s test。箱型图的定义如下：\n",
    "\n",
    "![](https://user-gold-cdn.xitu.io/2018/8/8/1651720269417d3a?imageView2/0/w/1280/h/960/format/webp/ignore-error/1)\n",
    "\n",
    "四分位距(IQR)就是上四分位与下四分位的差值。而我们通过IQR的1.5倍为标准，规定：超过上四分位+1.5倍IQR距离，或者下四分位-1.5倍IQR距离的点为异常值。下面是Python中的代码实现，主要使用了numpy的percentile方法。\n",
    "\n",
    "```\n",
    "Percentile = np.percentile(df['length'],[0,25,50,75,100])\n",
    "IQR = Percentile[3] - Percentile[1]\n",
    "UpLimit = Percentile[3]+ageIQR*1.5\n",
    "DownLimit = Percentile[1]-ageIQR*1.5\n",
    "```\n",
    "\n",
    "也可以使用seaborn的可视化方法boxplot来实现："
   ]
  },
  {
   "cell_type": "code",
   "execution_count": 77,
   "metadata": {},
   "outputs": [
    {
     "data": {
      "image/png": "[encoded data removed]",
      "text/plain": [
       "<Figure size 720x576 with 1 Axes>"
      ]
     },
     "metadata": {
      "needs_background": "light"
     },
     "output_type": "display_data"
    }
   ],
   "source": [
    "f,ax=plt.subplots(figsize=(10,8))\n",
    "sns.boxplot(y='tradeMoney',data=train,ax=ax)\n",
    "plt.show()"
   ]
  },
  {
   "cell_type": "code",
   "execution_count": 78,
   "metadata": {},
   "outputs": [],
   "source": [
    "# 数值型数据\n",
    "numerical_feas=['area','totalFloor','saleSecHouseNum','subwayStationNum',\n",
    "    'busStationNum','interSchoolNum','schoolNum','privateSchoolNum','hospitalNum',\n",
    "    'drugStoreNum','gymNum','bankNum','shopNum','parkNum','mallNum','superMarketNum',\n",
    "    'totalTradeMoney','totalTradeArea','tradeMeanPrice','tradeSecNum','totalNewTradeMoney',\n",
    "    'totalNewTradeArea','tradeNewMeanPrice','tradeNewNum','remainNewNum','supplyNewNum',\n",
    "    'supplyLandNum','supplyLandArea','tradeLandNum','tradeLandArea','landTotalPrice',\n",
    "    'landMeanPrice','totalWorkers','newWorkers','residentPopulation','pv','uv','lookNum']"
   ]
  },
  {
   "cell_type": "code",
   "execution_count": 90,
   "metadata": {},
   "outputs": [
    {
     "name": "stdout",
     "output_type": "stream",
     "text": [
      "[ 0.  0.  0.  1. 38.]\n",
      "2.5 -1.5\n"
     ]
    }
   ],
   "source": [
    "Percentile = np.percentile(train['saleSecHouseNum'],[0,0.1,50,75,99.99])\n",
    "print(Percentile)\n",
    "tradeMoneyIQR = Percentile[3] - Percentile[1]\n",
    "UpLimit = Percentile[3]+tradeMoneyIQR*1.5\n",
    "DownLimit = Percentile[1]-tradeMoneyIQR*1.5\n",
    "print(UpLimit,DownLimit)"
   ]
  },
  {
   "cell_type": "code",
   "execution_count": null,
   "metadata": {},
   "outputs": [],
   "source": []
  },
  {
   "cell_type": "code",
   "execution_count": null,
   "metadata": {},
   "outputs": [],
   "source": []
  }
 ],
 "metadata": {
  "kernelspec": {
   "display_name": "Python 3",
   "language": "python",
   "name": "python3"
  },
  "language_info": {
   "codemirror_mode": {
    "name": "ipython",
    "version": 3
   },
   "file_extension": ".py",
   "mimetype": "text/x-python",
   "name": "python",
   "nbconvert_exporter": "python",
   "pygments_lexer": "ipython3",
   "version": "3.7.3"
  }
 },
 "nbformat": 4,
 "nbformat_minor": 2
}
