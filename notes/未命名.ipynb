{
 "cells": [
  {
   "cell_type": "code",
   "execution_count": 1,
   "metadata": {},
   "outputs": [],
   "source": [
    "import pandas as pd"
   ]
  },
  {
   "cell_type": "code",
   "execution_count": 17,
   "metadata": {},
   "outputs": [],
   "source": [
    "df_train = pd.read_csv('../input/train_data.csv')\n",
    "df_test = pd.read_csv('../input/test_a.csv')\n",
    "df = pd.concat([df_train, df_test], sort=False, axis=0, ignore_index=True)"
   ]
  },
  {
   "cell_type": "code",
   "execution_count": 18,
   "metadata": {
    "scrolled": false
   },
   "outputs": [
    {
     "data": {
      "text/plain": [
       "59.7XQ01274      27\n",
       "39.0XQ02441      27\n",
       "56.0XQ00313      27\n",
       "37.0XQ03110      27\n",
       "83.0XQ00826      23\n",
       "90.0XQ02219      22\n",
       "122.0XQ00826     22\n",
       "65.24XQ01371     21\n",
       "89.0XQ00826      20\n",
       "54.0XQ03336      19\n",
       "42.0XQ02441      18\n",
       "31.0XQ03110      18\n",
       "88.3XQ03141      16\n",
       "87.16XQ00494     16\n",
       "36.0XQ01745      16\n",
       "98.0XQ03188      15\n",
       "56.42XQ01763     15\n",
       "79.0XQ00588      15\n",
       "41.0XQ01413      15\n",
       "42.23XQ00196     15\n",
       "41.91XQ01360     14\n",
       "56.0XQ02441      14\n",
       "41.52XQ01970     14\n",
       "50.23XQ01970     14\n",
       "36.0XQ03110      13\n",
       "88.0XQ01080      13\n",
       "36.65XQ02273     13\n",
       "24.0XQ01322      13\n",
       "59.83XQ01274     13\n",
       "41.14XQ00417     12\n",
       "                 ..\n",
       "55.97XQ01579      1\n",
       "139.89XQ01631     1\n",
       "80.0XQ03122       1\n",
       "100.0XQ02422      1\n",
       "66.19XQ03819      1\n",
       "49.03XQ00871      1\n",
       "49.59XQ00823      1\n",
       "100.93XQ02365     1\n",
       "66.51XQ02337      1\n",
       "70.0XQ03267       1\n",
       "76.01XQ00165      1\n",
       "106.03XQ02322     1\n",
       "63.64XQ01517      1\n",
       "57.9XQ02184       1\n",
       "14.7XQ02522       1\n",
       "40.78XQ04140      1\n",
       "59.75XQ04129      1\n",
       "176.0XQ03265      1\n",
       "51.06XQ04129      1\n",
       "85.08XQ00323      1\n",
       "91.95XQ01440      1\n",
       "97.0XQ01642       1\n",
       "91.64XQ01426      1\n",
       "85.0XQ03104       1\n",
       "48.3XQ02605       1\n",
       "126.92XQ04177     1\n",
       "65.0XQ03873       1\n",
       "49.0XQ03574       1\n",
       "10.45XQ01659      1\n",
       "92.54XQ03187      1\n",
       "Name: area_comm, Length: 32934, dtype: int64"
      ]
     },
     "execution_count": 18,
     "metadata": {},
     "output_type": "execute_result"
    }
   ],
   "source": [
    "df['area_comm']=df.apply(lambda row:str(row.area)+row.communityName,axis=1)\n",
    "df['area_comm'].value_counts()"
   ]
  },
  {
   "cell_type": "code",
   "execution_count": null,
   "metadata": {},
   "outputs": [],
   "source": []
  }
 ],
 "metadata": {
  "kernelspec": {
   "display_name": "Python 3",
   "language": "python",
   "name": "python3"
  },
  "language_info": {
   "codemirror_mode": {
    "name": "ipython",
    "version": 3
   },
   "file_extension": ".py",
   "mimetype": "text/x-python",
   "name": "python",
   "nbconvert_exporter": "python",
   "pygments_lexer": "ipython3",
   "version": "3.7.3"
  }
 },
 "nbformat": 4,
 "nbformat_minor": 2
}
