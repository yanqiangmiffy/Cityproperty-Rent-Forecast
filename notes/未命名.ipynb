{
 "cells": [
  {
   "cell_type": "code",
   "execution_count": 1,
   "metadata": {},
   "outputs": [],
   "source": [
    "import pandas as pd"
   ]
  },
  {
   "cell_type": "code",
   "execution_count": 17,
   "metadata": {},
   "outputs": [],
   "source": [
    "df_train = pd.read_csv('../input/train_data.csv')\n",
    "df_test = pd.read_csv('../input/test_a.csv')\n",
    "df = pd.concat([df_train, df_test], sort=False, axis=0, ignore_index=True)"
   ]
  },
  {
   "cell_type": "code",
   "execution_count": 20,
   "metadata": {
    "scrolled": false
   },
   "outputs": [
    {
     "data": {
      "text/plain": [
       "59.7XQ01274     27\n",
       "39.0XQ02441     27\n",
       "56.0XQ00313     27\n",
       "37.0XQ03110     27\n",
       "83.0XQ00826     23\n",
       "90.0XQ02219     22\n",
       "122.0XQ00826    22\n",
       "65.24XQ01371    21\n",
       "89.0XQ00826     20\n",
       "54.0XQ03336     19\n",
       "Name: area_comm, dtype: int64"
      ]
     },
     "execution_count": 20,
     "metadata": {},
     "output_type": "execute_result"
    }
   ],
   "source": [
    "df['area_comm']=df.apply(lambda row:str(row.area)+row.communityName,axis=1)\n",
    "df['area_comm'].value_counts()[:10]"
   ]
  },
  {
   "cell_type": "code",
   "execution_count": 21,
   "metadata": {},
   "outputs": [
    {
     "name": "stdout",
     "output_type": "stream",
     "text": [
      "172      3200.0\n",
      "184      3500.0\n",
      "2145     3500.0\n",
      "4578     3400.0\n",
      "6353     3600.0\n",
      "8426     4190.0\n",
      "8450     3600.0\n",
      "10623    3100.0\n",
      "11129    3400.0\n",
      "11156    3600.0\n",
      "11327    2500.0\n",
      "11344    3400.0\n",
      "11665    3400.0\n",
      "12085    3200.0\n",
      "12239    3790.0\n",
      "12546    3730.0\n",
      "12763    3600.0\n",
      "14458    3500.0\n",
      "15303    3700.0\n",
      "15310    3800.0\n",
      "16338    3800.0\n",
      "17132    3500.0\n",
      "17935    4000.0\n",
      "18461    3300.0\n",
      "19212    3400.0\n",
      "20016    3300.0\n",
      "38164    3500.0\n",
      "Name: tradeMoney, dtype: float64\n"
     ]
    }
   ],
   "source": [
    "print(df[df['area_comm']=='59.7XQ01274']['tradeMoney'])"
   ]
  },
  {
   "cell_type": "code",
   "execution_count": 23,
   "metadata": {},
   "outputs": [
    {
     "name": "stdout",
     "output_type": "stream",
     "text": [
      "1999     1150.0\n",
      "4063     1300.0\n",
      "7290     1000.0\n",
      "7406     1300.0\n",
      "7841     1200.0\n",
      "8285     1300.0\n",
      "8972     1200.0\n",
      "9512     1100.0\n",
      "9826     1370.0\n",
      "9834     1100.0\n",
      "10719    1300.0\n",
      "39483    1200.0\n",
      "39492    1200.0\n",
      "39505    1200.0\n",
      "39553    1100.0\n",
      "39601    1100.0\n",
      "39613    1150.0\n",
      "39642    1000.0\n",
      "39643    1150.0\n",
      "39670    1200.0\n",
      "39671    1100.0\n",
      "39702    1100.0\n",
      "39793    1100.0\n",
      "39794    1200.0\n",
      "39795    1100.0\n",
      "39796    1150.0\n",
      "39929    1100.0\n",
      "Name: tradeMoney, dtype: float64\n"
     ]
    }
   ],
   "source": [
    "print(df[df['area_comm']=='39.0XQ02441']['tradeMoney'])"
   ]
  },
  {
   "cell_type": "code",
   "execution_count": 26,
   "metadata": {},
   "outputs": [],
   "source": [
    "df['filter_rule']=df.apply(lambda row:str(row.area)+\n",
    "                           row.communityName+\n",
    "#                            row.rentType+\n",
    "                           row.houseType+str(row.houseFloor)+\n",
    "                           str(row.totalFloor)+\n",
    "                           row.houseToward+\n",
    "                           row.houseDecoration,\n",
    "                           axis=1)"
   ]
  },
  {
   "cell_type": "code",
   "execution_count": 28,
   "metadata": {},
   "outputs": [
    {
     "data": {
      "text/plain": [
       "41.52XQ019701室1厅1卫高6南其他     11\n",
       "88.3XQ031412室2厅1卫中11南其他      9\n",
       "31.0XQ031101室1厅1卫中21南其他      9\n",
       "42.23XQ001961室1厅1卫高6南其他      8\n",
       "39.0XQ024411室1厅1卫中21北其他      8\n",
       "63.92XQ001332室1厅1卫中5南其他      8\n",
       "11.6XQ032813室1厅1卫高18南精装      7\n",
       "41.91XQ013601室1厅1卫中19北其他     7\n",
       "38.19XQ035761室1厅1卫高6南其他      6\n",
       "12.3XQ005303室1厅1卫高16南精装      6\n",
       "88.0XQ010802室2厅1卫高20南其他      6\n",
       "79.0XQ005882室1厅1卫中11南其他      6\n",
       "13.7XQ005304室1厅1卫低16南精装      6\n",
       "41.76XQ015611室1厅1卫中6南其他      6\n",
       "56.42XQ017631室1厅1卫低17南精装     5\n",
       "37.0XQ031102室1厅1卫高16北其他      5\n",
       "73.34XQ011672室1厅1卫高6南其他      5\n",
       "49.76XQ017981室1厅1卫中17南其他     5\n",
       "78.66XQ001283室2厅1卫中5南其他      5\n",
       "64.77XQ013911室2厅1卫中16南其他     5\n",
       "50.14XQ019711室1厅1卫中8南其他      5\n",
       "41.91XQ013601室1厅1卫低19北其他     5\n",
       "40.42XQ036361室1厅1卫中7南其他      5\n",
       "51.0XQ020231室1厅1卫低14南其他      5\n",
       "59.7XQ012741室1厅1卫低18南其他      5\n",
       "47.7XQ007641室1厅1卫高6南其他       5\n",
       "37.75XQ035211室1厅1卫高6南其他      5\n",
       "56.0XQ003131室1厅1卫中19南其他      5\n",
       "59.13XQ012321室1厅1卫中19南其他     5\n",
       "70.0XQ038342室1厅1卫高18南其他      5\n",
       "                            ..\n",
       "56.0XQ024412室1厅1卫中21南其他      4\n",
       "87.16XQ004942室2厅1卫高20南其他     4\n",
       "88.0XQ002352室2厅1卫高18南其他      4\n",
       "9.7XQ032973室1厅1卫高18南精装       4\n",
       "44.07XQ036351室1厅1卫中7南其他      4\n",
       "45.84XQ013131室1厅1卫中5南其他      4\n",
       "122.0XQ008263室2厅2卫中24南其他     4\n",
       "42.0XQ024411室1厅1卫中21南其他      4\n",
       "30.0XQ014401室1厅1卫低15南精装      4\n",
       "39.98XQ016421室1厅1卫中29东其他     4\n",
       "54.0XQ033361室1厅1卫中16南其他      4\n",
       "56.06XQ033641室1厅1卫中11南其他     4\n",
       "98.0XQ031882室2厅1卫中18南其他      4\n",
       "78.65XQ030772室2厅1卫高18南其他     4\n",
       "90.08XQ016062室2厅1卫低18南其他     4\n",
       "82.69XQ019902室2厅1卫中17南其他     4\n",
       "36.79XQ007871室1厅1卫高6南其他      4\n",
       "39.33XQ002101室1厅1卫中5南其他      4\n",
       "9.8XQ032813室1厅1卫高18南精装       4\n",
       "59.0XQ031612室1厅1卫高6南其他       4\n",
       "50.0XQ031101室1厅1卫中24南其他      4\n",
       "14.6XQ005304室1厅1卫高16南精装      4\n",
       "57.71XQ016041室1厅1卫中9南其他      3\n",
       "89.0XQ008263室1厅1卫中22南其他      3\n",
       "48.01XQ001861室1厅1卫低6南其他      3\n",
       "44.89XQ024502室1厅1卫高25东其他     3\n",
       "40.0XQ034951室1厅1卫中6南其他       3\n",
       "59.98XQ033281室1厅1卫中6南其他      3\n",
       "47.99XQ031571室1厅1卫中6南其他      3\n",
       "40.45XQ023371室1厅1卫中5南其他      3\n",
       "Name: filter_rule, Length: 100, dtype: int64"
      ]
     },
     "execution_count": 28,
     "metadata": {},
     "output_type": "execute_result"
    }
   ],
   "source": [
    "df['filter_rule'].value_counts()[:100]"
   ]
  },
  {
   "cell_type": "code",
   "execution_count": 32,
   "metadata": {},
   "outputs": [
    {
     "data": {
      "text/plain": [
       "7000     5200.0\n",
       "20354    5500.0\n",
       "23729    5100.0\n",
       "26120    5000.0\n",
       "27186    4583.0\n",
       "28349    5100.0\n",
       "30399    4600.0\n",
       "32538    5200.0\n",
       "33534    5400.0\n",
       "Name: tradeMoney, dtype: float64"
      ]
     },
     "execution_count": 32,
     "metadata": {},
     "output_type": "execute_result"
    }
   ],
   "source": [
    "df[df['filter_rule']=='88.3XQ031412室2厅1卫中11南其他']['tradeMoney']"
   ]
  },
  {
   "cell_type": "code",
   "execution_count": null,
   "metadata": {},
   "outputs": [],
   "source": []
  }
 ],
 "metadata": {
  "kernelspec": {
   "display_name": "Python 3",
   "language": "python",
   "name": "python3"
  },
  "language_info": {
   "codemirror_mode": {
    "name": "ipython",
    "version": 3
   },
   "file_extension": ".py",
   "mimetype": "text/x-python",
   "name": "python",
   "nbconvert_exporter": "python",
   "pygments_lexer": "ipython3",
   "version": "3.7.3"
  }
 },
 "nbformat": 4,
 "nbformat_minor": 2
}
