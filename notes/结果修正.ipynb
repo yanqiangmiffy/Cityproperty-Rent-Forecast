{
 "cells": [
  {
   "cell_type": "code",
   "execution_count": 12,
   "metadata": {},
   "outputs": [],
   "source": [
    "import pandas as pd"
   ]
  },
  {
   "cell_type": "code",
   "execution_count": 14,
   "metadata": {},
   "outputs": [],
   "source": [
    "df_train = pd.read_csv('../input/train_data.csv')\n",
    "df_test = pd.read_csv('../input/test_a.csv')\n",
    "df = pd.concat([df_train, df_test], sort=False, axis=0, ignore_index=True)"
   ]
  },
  {
   "cell_type": "code",
   "execution_count": 15,
   "metadata": {},
   "outputs": [],
   "source": [
    "df['area']=round(df['area'])"
   ]
  },
  {
   "cell_type": "code",
   "execution_count": 16,
   "metadata": {
    "scrolled": false
   },
   "outputs": [
    {
     "data": {
      "text/plain": [
       "60.0XQ01274    69\n",
       "48.0XQ02273    41\n",
       "90.0XQ01274    39\n",
       "72.0XQ01540    38\n",
       "12.0XQ00530    35\n",
       "83.0XQ00826    31\n",
       "37.0XQ02273    30\n",
       "56.0XQ00313    30\n",
       "43.0XQ02072    30\n",
       "39.0XQ02441    30\n",
       "Name: area_comm, dtype: int64"
      ]
     },
     "execution_count": 16,
     "metadata": {},
     "output_type": "execute_result"
    }
   ],
   "source": [
    "df['area_comm']=df.apply(lambda row:str(row.area)+row.communityName,axis=1)\n",
    "df['area_comm'].value_counts()[:10]"
   ]
  },
  {
   "cell_type": "code",
   "execution_count": 17,
   "metadata": {},
   "outputs": [
    {
     "name": "stdout",
     "output_type": "stream",
     "text": [
      "Series([], Name: tradeMoney, dtype: float64)\n"
     ]
    }
   ],
   "source": [
    "print(df[df['area_comm']=='59.7XQ01274']['tradeMoney'])"
   ]
  },
  {
   "cell_type": "code",
   "execution_count": 7,
   "metadata": {},
   "outputs": [
    {
     "name": "stdout",
     "output_type": "stream",
     "text": [
      "1999     1150.0\n",
      "4063     1300.0\n",
      "7290     1000.0\n",
      "7406     1300.0\n",
      "7841     1200.0\n",
      "8285     1300.0\n",
      "8972     1200.0\n",
      "9512     1100.0\n",
      "9826     1370.0\n",
      "9834     1100.0\n",
      "10719    1300.0\n",
      "39483    1200.0\n",
      "39492    1200.0\n",
      "39505    1200.0\n",
      "39553    1100.0\n",
      "39601    1100.0\n",
      "39613    1150.0\n",
      "39642    1000.0\n",
      "39643    1150.0\n",
      "39670    1200.0\n",
      "39671    1100.0\n",
      "39702    1100.0\n",
      "39793    1100.0\n",
      "39794    1200.0\n",
      "39795    1100.0\n",
      "39796    1150.0\n",
      "39929    1100.0\n",
      "Name: tradeMoney, dtype: float64\n"
     ]
    }
   ],
   "source": [
    "print(df[df['area_comm']=='39.0XQ02441']['tradeMoney'])"
   ]
  },
  {
   "cell_type": "code",
   "execution_count": 18,
   "metadata": {},
   "outputs": [],
   "source": [
    "df['filter_rule']=df.apply(lambda row:str(row.area)+\n",
    "                           row.communityName+\n",
    "#                            row.rentType+\n",
    "                           row.houseType+str(row.houseFloor)+\n",
    "                           str(row.totalFloor)+\n",
    "                           row.houseToward+\n",
    "                           row.houseDecoration,\n",
    "                           axis=1)"
   ]
  },
  {
   "cell_type": "code",
   "execution_count": 19,
   "metadata": {},
   "outputs": [
    {
     "data": {
      "text/plain": [
       "12.0XQ005303室1厅1卫高16南精装     15\n",
       "72.0XQ015402室2厅1卫低6南其他      14\n",
       "67.0XQ017981室2厅1卫中17南其他     12\n",
       "48.0XQ022731室1厅1卫高6南其他      12\n",
       "42.0XQ001961室1厅1卫高6南其他      11\n",
       "60.0XQ012741室1厅1卫中18南其他     11\n",
       "42.0XQ019701室1厅1卫高6南其他      11\n",
       "48.0XQ022731室1厅1卫中6南其他      10\n",
       "64.0XQ001332室1厅1卫中5南其他      10\n",
       "88.0XQ031412室2厅1卫中11南其他     10\n",
       "43.0XQ020721室1厅1卫高6南其他      10\n",
       "70.0XQ022732室1厅1卫高6南其他       9\n",
       "31.0XQ031101室1厅1卫中21南其他      9\n",
       "43.0XQ020721室1厅1卫中6南其他       9\n",
       "44.0XQ036351室1厅1卫中7南其他       9\n",
       "10.0XQ032813室1厅1卫高18南精装      9\n",
       "72.0XQ015402室2厅1卫高6南其他       9\n",
       "72.0XQ015402室2厅1卫中6南其他       9\n",
       "12.0XQ032813室1厅1卫高18南精装      8\n",
       "44.0XQ015091室1厅1卫中14南其他      8\n",
       "42.0XQ013601室1厅1卫低19北其他      8\n",
       "58.0XQ013391室1厅1卫中14南其他      8\n",
       "39.0XQ024411室1厅1卫中21北其他      8\n",
       "79.0XQ001283室2厅1卫中5南其他       8\n",
       "42.0XQ013601室1厅1卫中19北其他      8\n",
       "12.0XQ005303室1厅1卫中16南精装      8\n",
       "49.0XQ015611室1厅1卫中6南其他       8\n",
       "60.0XQ012741室1厅1卫低18南其他      7\n",
       "38.0XQ035211室1厅1卫高6南其他       7\n",
       "42.0XQ001961室1厅1卫中6南其他       7\n",
       "                            ..\n",
       "53.0XQ016011室1厅1卫中7南其他       5\n",
       "42.0XQ020721室1厅1卫中6南其他       5\n",
       "37.0XQ031102室1厅1卫高16北其他      5\n",
       "58.0XQ007061室1厅1卫高15南其他      5\n",
       "55.0XQ031221室1厅1卫中11南其他      5\n",
       "55.0XQ008521室1厅1卫中11南其他      5\n",
       "73.0XQ011672室1厅1卫高6南其他       5\n",
       "60.0XQ012741室1厅1卫中14南其他      5\n",
       "54.0XQ010581室1厅1卫高14南其他      5\n",
       "56.0XQ008521室1厅1卫中11南其他      5\n",
       "70.0XQ038342室1厅1卫高18南其他      5\n",
       "13.0XQ005303室1厅1卫高16南精装      5\n",
       "90.0XQ012742室2厅1卫中18南其他      5\n",
       "70.0XQ022732室1厅1卫低6南其他       5\n",
       "52.0XQ001712室1厅1卫高6南其他       5\n",
       "80.0XQ032362室2厅1卫中18南其他      5\n",
       "47.0XQ012321室0厅1卫中19南其他      5\n",
       "32.0XQ028331室1厅1卫高6南其他       5\n",
       "30.0XQ028331室0厅1卫高6南其他       5\n",
       "10.0XQ032813室1厅1卫中18南精装      5\n",
       "75.0XQ015612室1厅1卫高6南其他       5\n",
       "37.0XQ022731室0厅1卫中6南其他       5\n",
       "46.0XQ008301室1厅1卫高6南其他       5\n",
       "103.0XQ007433室2厅1卫低18南其他     5\n",
       "50.0XQ031101室1厅1卫中24南其他      5\n",
       "87.0XQ004942室2厅1卫中20南其他      5\n",
       "53.0XQ001331室1厅1卫中4南其他       5\n",
       "77.0XQ005062室2厅1卫高6南其他       5\n",
       "63.0XQ007411室2厅1卫中20南其他      5\n",
       "60.0XQ001281室1厅1卫高5南其他       5\n",
       "Name: filter_rule, Length: 100, dtype: int64"
      ]
     },
     "execution_count": 19,
     "metadata": {},
     "output_type": "execute_result"
    }
   ],
   "source": [
    "df['filter_rule'].value_counts()[:100]"
   ]
  },
  {
   "cell_type": "code",
   "execution_count": 22,
   "metadata": {},
   "outputs": [
    {
     "data": {
      "text/plain": [
       "7000     5200.0\n",
       "20354    5500.0\n",
       "23729    5100.0\n",
       "26120    5000.0\n",
       "27186    4583.0\n",
       "28349    5100.0\n",
       "30399    4600.0\n",
       "32538    5200.0\n",
       "32597    5700.0\n",
       "33534    5400.0\n",
       "Name: tradeMoney, dtype: float64"
      ]
     },
     "execution_count": 22,
     "metadata": {},
     "output_type": "execute_result"
    }
   ],
   "source": [
    "df[df['filter_rule']=='88.0XQ031412室2厅1卫中11南其他']['tradeMoney']"
   ]
  },
  {
   "cell_type": "code",
   "execution_count": null,
   "metadata": {},
   "outputs": [],
   "source": []
  }
 ],
 "metadata": {
  "kernelspec": {
   "display_name": "Python 3",
   "language": "python",
   "name": "python3"
  },
  "language_info": {
   "codemirror_mode": {
    "name": "ipython",
    "version": 3
   },
   "file_extension": ".py",
   "mimetype": "text/x-python",
   "name": "python",
   "nbconvert_exporter": "python",
   "pygments_lexer": "ipython3",
   "version": "3.7.3"
  }
 },
 "nbformat": 4,
 "nbformat_minor": 2
}
