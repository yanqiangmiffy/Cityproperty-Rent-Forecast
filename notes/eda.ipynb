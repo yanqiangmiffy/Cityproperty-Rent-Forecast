{
 "cells": [
  {
   "cell_type": "code",
   "execution_count": 1,
   "metadata": {
    "pycharm": {
     "is_executing": false
    }
   },
   "outputs": [],
   "source": [
    "import pandas as pd\n",
    "import numpy as np\n",
    "import matplotlib.pyplot as plt\n",
    "import seaborn as sns\n",
    "pd.set_option('display.max_columns',100)"
   ]
  },
  {
   "cell_type": "code",
   "execution_count": 2,
   "metadata": {
    "pycharm": {
     "is_executing": false,
     "metadata": false,
     "name": "#%%\n"
    }
   },
   "outputs": [],
   "source": [
    "train=pd.read_csv('../input/train_data.csv')\n",
    "test=pd.read_csv('../input/test_a.csv')"
   ]
  },
  {
   "cell_type": "code",
   "execution_count": 3,
   "metadata": {
    "pycharm": {
     "metadata": false,
     "name": "#%%\n"
    }
   },
   "outputs": [
    {
     "data": {
      "text/html": [
       "<div>\n",
       "<style scoped>\n",
       "    .dataframe tbody tr th:only-of-type {\n",
       "        vertical-align: middle;\n",
       "    }\n",
       "\n",
       "    .dataframe tbody tr th {\n",
       "        vertical-align: top;\n",
       "    }\n",
       "\n",
       "    .dataframe thead th {\n",
       "        text-align: right;\n",
       "    }\n",
       "</style>\n",
       "<table border=\"1\" class=\"dataframe\">\n",
       "  <thead>\n",
       "    <tr style=\"text-align: right;\">\n",
       "      <th></th>\n",
       "      <th>ID</th>\n",
       "      <th>area</th>\n",
       "      <th>rentType</th>\n",
       "      <th>houseType</th>\n",
       "      <th>houseFloor</th>\n",
       "      <th>totalFloor</th>\n",
       "      <th>houseToward</th>\n",
       "      <th>houseDecoration</th>\n",
       "      <th>communityName</th>\n",
       "      <th>city</th>\n",
       "      <th>region</th>\n",
       "      <th>plate</th>\n",
       "      <th>buildYear</th>\n",
       "      <th>saleSecHouseNum</th>\n",
       "      <th>subwayStationNum</th>\n",
       "      <th>busStationNum</th>\n",
       "      <th>interSchoolNum</th>\n",
       "      <th>schoolNum</th>\n",
       "      <th>privateSchoolNum</th>\n",
       "      <th>hospitalNum</th>\n",
       "      <th>drugStoreNum</th>\n",
       "      <th>gymNum</th>\n",
       "      <th>bankNum</th>\n",
       "      <th>shopNum</th>\n",
       "      <th>parkNum</th>\n",
       "      <th>mallNum</th>\n",
       "      <th>superMarketNum</th>\n",
       "      <th>totalTradeMoney</th>\n",
       "      <th>totalTradeArea</th>\n",
       "      <th>tradeMeanPrice</th>\n",
       "      <th>tradeSecNum</th>\n",
       "      <th>totalNewTradeMoney</th>\n",
       "      <th>totalNewTradeArea</th>\n",
       "      <th>tradeNewMeanPrice</th>\n",
       "      <th>tradeNewNum</th>\n",
       "      <th>remainNewNum</th>\n",
       "      <th>supplyNewNum</th>\n",
       "      <th>supplyLandNum</th>\n",
       "      <th>supplyLandArea</th>\n",
       "      <th>tradeLandNum</th>\n",
       "      <th>tradeLandArea</th>\n",
       "      <th>landTotalPrice</th>\n",
       "      <th>landMeanPrice</th>\n",
       "      <th>totalWorkers</th>\n",
       "      <th>newWorkers</th>\n",
       "      <th>residentPopulation</th>\n",
       "      <th>pv</th>\n",
       "      <th>uv</th>\n",
       "      <th>lookNum</th>\n",
       "      <th>tradeTime</th>\n",
       "      <th>tradeMoney</th>\n",
       "    </tr>\n",
       "  </thead>\n",
       "  <tbody>\n",
       "    <tr>\n",
       "      <th>0</th>\n",
       "      <td>100309852</td>\n",
       "      <td>68.06</td>\n",
       "      <td>未知方式</td>\n",
       "      <td>2室1厅1卫</td>\n",
       "      <td>低</td>\n",
       "      <td>16</td>\n",
       "      <td>暂无数据</td>\n",
       "      <td>其他</td>\n",
       "      <td>XQ00051</td>\n",
       "      <td>SH</td>\n",
       "      <td>RG00001</td>\n",
       "      <td>BK00064</td>\n",
       "      <td>1953</td>\n",
       "      <td>0</td>\n",
       "      <td>7</td>\n",
       "      <td>36</td>\n",
       "      <td>0</td>\n",
       "      <td>28</td>\n",
       "      <td>1</td>\n",
       "      <td>1</td>\n",
       "      <td>12</td>\n",
       "      <td>15</td>\n",
       "      <td>16</td>\n",
       "      <td>76</td>\n",
       "      <td>5</td>\n",
       "      <td>3</td>\n",
       "      <td>22</td>\n",
       "      <td>355584000</td>\n",
       "      <td>7411.98</td>\n",
       "      <td>47974.22551</td>\n",
       "      <td>111</td>\n",
       "      <td>810967373</td>\n",
       "      <td>7755</td>\n",
       "      <td>104573.48460</td>\n",
       "      <td>25</td>\n",
       "      <td>264</td>\n",
       "      <td>0</td>\n",
       "      <td>0</td>\n",
       "      <td>0.0</td>\n",
       "      <td>0</td>\n",
       "      <td>0.0</td>\n",
       "      <td>0</td>\n",
       "      <td>0.0000</td>\n",
       "      <td>28248</td>\n",
       "      <td>614</td>\n",
       "      <td>111546</td>\n",
       "      <td>1124.0</td>\n",
       "      <td>284.0</td>\n",
       "      <td>0</td>\n",
       "      <td>2018/11/28</td>\n",
       "      <td>2000.0</td>\n",
       "    </tr>\n",
       "    <tr>\n",
       "      <th>1</th>\n",
       "      <td>100307942</td>\n",
       "      <td>125.55</td>\n",
       "      <td>未知方式</td>\n",
       "      <td>3室2厅2卫</td>\n",
       "      <td>中</td>\n",
       "      <td>14</td>\n",
       "      <td>暂无数据</td>\n",
       "      <td>简装</td>\n",
       "      <td>XQ00130</td>\n",
       "      <td>SH</td>\n",
       "      <td>RG00002</td>\n",
       "      <td>BK00049</td>\n",
       "      <td>2007</td>\n",
       "      <td>0</td>\n",
       "      <td>2</td>\n",
       "      <td>184</td>\n",
       "      <td>0</td>\n",
       "      <td>26</td>\n",
       "      <td>0</td>\n",
       "      <td>1</td>\n",
       "      <td>27</td>\n",
       "      <td>5</td>\n",
       "      <td>16</td>\n",
       "      <td>163</td>\n",
       "      <td>6</td>\n",
       "      <td>4</td>\n",
       "      <td>51</td>\n",
       "      <td>5000000</td>\n",
       "      <td>122.83</td>\n",
       "      <td>40706.66775</td>\n",
       "      <td>2</td>\n",
       "      <td>9668955</td>\n",
       "      <td>286</td>\n",
       "      <td>33807.53497</td>\n",
       "      <td>2</td>\n",
       "      <td>4</td>\n",
       "      <td>0</td>\n",
       "      <td>0</td>\n",
       "      <td>0.0</td>\n",
       "      <td>0</td>\n",
       "      <td>0.0</td>\n",
       "      <td>0</td>\n",
       "      <td>0.0000</td>\n",
       "      <td>14823</td>\n",
       "      <td>148</td>\n",
       "      <td>157552</td>\n",
       "      <td>701.0</td>\n",
       "      <td>22.0</td>\n",
       "      <td>1</td>\n",
       "      <td>2018/12/16</td>\n",
       "      <td>2000.0</td>\n",
       "    </tr>\n",
       "    <tr>\n",
       "      <th>2</th>\n",
       "      <td>100307764</td>\n",
       "      <td>132.00</td>\n",
       "      <td>未知方式</td>\n",
       "      <td>3室2厅2卫</td>\n",
       "      <td>低</td>\n",
       "      <td>32</td>\n",
       "      <td>暂无数据</td>\n",
       "      <td>其他</td>\n",
       "      <td>XQ00179</td>\n",
       "      <td>SH</td>\n",
       "      <td>RG00002</td>\n",
       "      <td>BK00050</td>\n",
       "      <td>暂无信息</td>\n",
       "      <td>3</td>\n",
       "      <td>6</td>\n",
       "      <td>60</td>\n",
       "      <td>1</td>\n",
       "      <td>43</td>\n",
       "      <td>2</td>\n",
       "      <td>3</td>\n",
       "      <td>24</td>\n",
       "      <td>35</td>\n",
       "      <td>37</td>\n",
       "      <td>85</td>\n",
       "      <td>6</td>\n",
       "      <td>4</td>\n",
       "      <td>30</td>\n",
       "      <td>1687284798</td>\n",
       "      <td>49071.30</td>\n",
       "      <td>34384.35089</td>\n",
       "      <td>555</td>\n",
       "      <td>344894466</td>\n",
       "      <td>3143</td>\n",
       "      <td>109734.16040</td>\n",
       "      <td>11</td>\n",
       "      <td>159</td>\n",
       "      <td>126</td>\n",
       "      <td>0</td>\n",
       "      <td>0.0</td>\n",
       "      <td>0</td>\n",
       "      <td>0.0</td>\n",
       "      <td>0</td>\n",
       "      <td>0.0000</td>\n",
       "      <td>77645</td>\n",
       "      <td>520</td>\n",
       "      <td>131744</td>\n",
       "      <td>57.0</td>\n",
       "      <td>20.0</td>\n",
       "      <td>1</td>\n",
       "      <td>2018/12/22</td>\n",
       "      <td>16000.0</td>\n",
       "    </tr>\n",
       "    <tr>\n",
       "      <th>3</th>\n",
       "      <td>100306518</td>\n",
       "      <td>57.00</td>\n",
       "      <td>未知方式</td>\n",
       "      <td>1室1厅1卫</td>\n",
       "      <td>中</td>\n",
       "      <td>17</td>\n",
       "      <td>暂无数据</td>\n",
       "      <td>精装</td>\n",
       "      <td>XQ00313</td>\n",
       "      <td>SH</td>\n",
       "      <td>RG00002</td>\n",
       "      <td>BK00051</td>\n",
       "      <td>暂无信息</td>\n",
       "      <td>0</td>\n",
       "      <td>3</td>\n",
       "      <td>364</td>\n",
       "      <td>2</td>\n",
       "      <td>60</td>\n",
       "      <td>1</td>\n",
       "      <td>8</td>\n",
       "      <td>83</td>\n",
       "      <td>30</td>\n",
       "      <td>47</td>\n",
       "      <td>358</td>\n",
       "      <td>3</td>\n",
       "      <td>1</td>\n",
       "      <td>131</td>\n",
       "      <td>468272888</td>\n",
       "      <td>22809.70</td>\n",
       "      <td>20529.55050</td>\n",
       "      <td>260</td>\n",
       "      <td>196307819</td>\n",
       "      <td>6418</td>\n",
       "      <td>30587.07058</td>\n",
       "      <td>58</td>\n",
       "      <td>730</td>\n",
       "      <td>0</td>\n",
       "      <td>1</td>\n",
       "      <td>108037.8</td>\n",
       "      <td>1</td>\n",
       "      <td>108037.8</td>\n",
       "      <td>332760000</td>\n",
       "      <td>3080.0331</td>\n",
       "      <td>8750</td>\n",
       "      <td>1665</td>\n",
       "      <td>253337</td>\n",
       "      <td>888.0</td>\n",
       "      <td>279.0</td>\n",
       "      <td>9</td>\n",
       "      <td>2018/12/21</td>\n",
       "      <td>1600.0</td>\n",
       "    </tr>\n",
       "    <tr>\n",
       "      <th>4</th>\n",
       "      <td>100305262</td>\n",
       "      <td>129.00</td>\n",
       "      <td>未知方式</td>\n",
       "      <td>3室2厅3卫</td>\n",
       "      <td>低</td>\n",
       "      <td>2</td>\n",
       "      <td>暂无数据</td>\n",
       "      <td>毛坯</td>\n",
       "      <td>XQ01257</td>\n",
       "      <td>SH</td>\n",
       "      <td>RG00003</td>\n",
       "      <td>BK00044</td>\n",
       "      <td>暂无信息</td>\n",
       "      <td>1</td>\n",
       "      <td>0</td>\n",
       "      <td>141</td>\n",
       "      <td>0</td>\n",
       "      <td>15</td>\n",
       "      <td>0</td>\n",
       "      <td>0</td>\n",
       "      <td>21</td>\n",
       "      <td>5</td>\n",
       "      <td>10</td>\n",
       "      <td>100</td>\n",
       "      <td>5</td>\n",
       "      <td>2</td>\n",
       "      <td>34</td>\n",
       "      <td>108851470</td>\n",
       "      <td>4463.62</td>\n",
       "      <td>24386.36577</td>\n",
       "      <td>38</td>\n",
       "      <td>286722058</td>\n",
       "      <td>5608</td>\n",
       "      <td>51127.32846</td>\n",
       "      <td>34</td>\n",
       "      <td>851</td>\n",
       "      <td>216</td>\n",
       "      <td>0</td>\n",
       "      <td>0.0</td>\n",
       "      <td>0</td>\n",
       "      <td>0.0</td>\n",
       "      <td>0</td>\n",
       "      <td>0.0000</td>\n",
       "      <td>800</td>\n",
       "      <td>117</td>\n",
       "      <td>125309</td>\n",
       "      <td>2038.0</td>\n",
       "      <td>480.0</td>\n",
       "      <td>0</td>\n",
       "      <td>2018/11/18</td>\n",
       "      <td>2900.0</td>\n",
       "    </tr>\n",
       "  </tbody>\n",
       "</table>\n",
       "</div>"
      ],
      "text/plain": [
       "          ID    area rentType houseType houseFloor  totalFloor houseToward  \\\n",
       "0  100309852   68.06     未知方式    2室1厅1卫          低          16        暂无数据   \n",
       "1  100307942  125.55     未知方式    3室2厅2卫          中          14        暂无数据   \n",
       "2  100307764  132.00     未知方式    3室2厅2卫          低          32        暂无数据   \n",
       "3  100306518   57.00     未知方式    1室1厅1卫          中          17        暂无数据   \n",
       "4  100305262  129.00     未知方式    3室2厅3卫          低           2        暂无数据   \n",
       "\n",
       "  houseDecoration communityName city   region    plate buildYear  \\\n",
       "0              其他       XQ00051   SH  RG00001  BK00064      1953   \n",
       "1              简装       XQ00130   SH  RG00002  BK00049      2007   \n",
       "2              其他       XQ00179   SH  RG00002  BK00050      暂无信息   \n",
       "3              精装       XQ00313   SH  RG00002  BK00051      暂无信息   \n",
       "4              毛坯       XQ01257   SH  RG00003  BK00044      暂无信息   \n",
       "\n",
       "   saleSecHouseNum  subwayStationNum  busStationNum  interSchoolNum  \\\n",
       "0                0                 7             36               0   \n",
       "1                0                 2            184               0   \n",
       "2                3                 6             60               1   \n",
       "3                0                 3            364               2   \n",
       "4                1                 0            141               0   \n",
       "\n",
       "   schoolNum  privateSchoolNum  hospitalNum  drugStoreNum  gymNum  bankNum  \\\n",
       "0         28                 1            1            12      15       16   \n",
       "1         26                 0            1            27       5       16   \n",
       "2         43                 2            3            24      35       37   \n",
       "3         60                 1            8            83      30       47   \n",
       "4         15                 0            0            21       5       10   \n",
       "\n",
       "   shopNum  parkNum  mallNum  superMarketNum  totalTradeMoney  totalTradeArea  \\\n",
       "0       76        5        3              22        355584000         7411.98   \n",
       "1      163        6        4              51          5000000          122.83   \n",
       "2       85        6        4              30       1687284798        49071.30   \n",
       "3      358        3        1             131        468272888        22809.70   \n",
       "4      100        5        2              34        108851470         4463.62   \n",
       "\n",
       "   tradeMeanPrice  tradeSecNum  totalNewTradeMoney  totalNewTradeArea  \\\n",
       "0     47974.22551          111           810967373               7755   \n",
       "1     40706.66775            2             9668955                286   \n",
       "2     34384.35089          555           344894466               3143   \n",
       "3     20529.55050          260           196307819               6418   \n",
       "4     24386.36577           38           286722058               5608   \n",
       "\n",
       "   tradeNewMeanPrice  tradeNewNum  remainNewNum  supplyNewNum  supplyLandNum  \\\n",
       "0       104573.48460           25           264             0              0   \n",
       "1        33807.53497            2             4             0              0   \n",
       "2       109734.16040           11           159           126              0   \n",
       "3        30587.07058           58           730             0              1   \n",
       "4        51127.32846           34           851           216              0   \n",
       "\n",
       "   supplyLandArea  tradeLandNum  tradeLandArea  landTotalPrice  landMeanPrice  \\\n",
       "0             0.0             0            0.0               0         0.0000   \n",
       "1             0.0             0            0.0               0         0.0000   \n",
       "2             0.0             0            0.0               0         0.0000   \n",
       "3        108037.8             1       108037.8       332760000      3080.0331   \n",
       "4             0.0             0            0.0               0         0.0000   \n",
       "\n",
       "   totalWorkers  newWorkers  residentPopulation      pv     uv  lookNum  \\\n",
       "0         28248         614              111546  1124.0  284.0        0   \n",
       "1         14823         148              157552   701.0   22.0        1   \n",
       "2         77645         520              131744    57.0   20.0        1   \n",
       "3          8750        1665              253337   888.0  279.0        9   \n",
       "4           800         117              125309  2038.0  480.0        0   \n",
       "\n",
       "    tradeTime  tradeMoney  \n",
       "0  2018/11/28      2000.0  \n",
       "1  2018/12/16      2000.0  \n",
       "2  2018/12/22     16000.0  \n",
       "3  2018/12/21      1600.0  \n",
       "4  2018/11/18      2900.0  "
      ]
     },
     "execution_count": 3,
     "metadata": {},
     "output_type": "execute_result"
    }
   ],
   "source": [
    "train.head()"
   ]
  },
  {
   "cell_type": "code",
   "execution_count": 4,
   "metadata": {},
   "outputs": [
    {
     "data": {
      "text/plain": [
       "((41440, 51), (2469, 50))"
      ]
     },
     "execution_count": 4,
     "metadata": {},
     "output_type": "execute_result"
    }
   ],
   "source": [
    "train.shape,test.shape"
   ]
  },
  {
   "cell_type": "code",
   "execution_count": 5,
   "metadata": {},
   "outputs": [],
   "source": [
    "df=pd.concat([train,test],keys=\"ID\",axis=0,sort=False,ignore_index=True)"
   ]
  },
  {
   "cell_type": "markdown",
   "metadata": {},
   "source": [
    "# 数据分析\n",
    "## 房屋信息"
   ]
  },
  {
   "cell_type": "markdown",
   "metadata": {},
   "source": [
    "### 1 area\n",
    "房屋面积,单位平方米"
   ]
  },
  {
   "cell_type": "code",
   "execution_count": 6,
   "metadata": {},
   "outputs": [
    {
     "data": {
      "image/png": "[encoded data removed]",
      "text/plain": [
       "<Figure size 432x288 with 1 Axes>"
      ]
     },
     "metadata": {
      "needs_background": "light"
     },
     "output_type": "display_data"
    }
   ],
   "source": [
    "sns.kdeplot(df['area'],shade=True,color='g',cut=0)\n",
    "plt.show()"
   ]
  },
  {
   "cell_type": "code",
   "execution_count": 7,
   "metadata": {},
   "outputs": [
    {
     "data": {
      "image/png": "[encoded data removed]",
      "text/plain": [
       "<Figure size 432x288 with 1 Axes>"
      ]
     },
     "metadata": {
      "needs_background": "light"
     },
     "output_type": "display_data"
    }
   ],
   "source": [
    "sns.distplot(df['area'],color='g')\n",
    "plt.show()"
   ]
  },
  {
   "cell_type": "markdown",
   "metadata": {},
   "source": [
    "我们统计下房屋面积的大小分布"
   ]
  },
  {
   "cell_type": "code",
   "execution_count": 8,
   "metadata": {},
   "outputs": [
    {
     "data": {
      "text/plain": [
       "count    43909.000000\n",
       "mean        71.244632\n",
       "std         85.891320\n",
       "min          1.000000\n",
       "25%         43.260000\n",
       "50%         65.300000\n",
       "75%         90.000000\n",
       "max      15055.000000\n",
       "Name: area, dtype: float64"
      ]
     },
     "execution_count": 8,
     "metadata": {},
     "output_type": "execute_result"
    }
   ],
   "source": [
    "df['area'].describe()"
   ]
  },
  {
   "cell_type": "code",
   "execution_count": 9,
   "metadata": {},
   "outputs": [
    {
     "data": {
      "text/html": [
       "<div>\n",
       "<style scoped>\n",
       "    .dataframe tbody tr th:only-of-type {\n",
       "        vertical-align: middle;\n",
       "    }\n",
       "\n",
       "    .dataframe tbody tr th {\n",
       "        vertical-align: top;\n",
       "    }\n",
       "\n",
       "    .dataframe thead th {\n",
       "        text-align: right;\n",
       "    }\n",
       "</style>\n",
       "<table border=\"1\" class=\"dataframe\">\n",
       "  <thead>\n",
       "    <tr style=\"text-align: right;\">\n",
       "      <th></th>\n",
       "      <th>area</th>\n",
       "      <th>tradeMoney</th>\n",
       "    </tr>\n",
       "  </thead>\n",
       "  <tbody>\n",
       "    <tr>\n",
       "      <th>2752</th>\n",
       "      <td>15055.00</td>\n",
       "      <td>11200.0</td>\n",
       "    </tr>\n",
       "    <tr>\n",
       "      <th>29693</th>\n",
       "      <td>3000.00</td>\n",
       "      <td>2350.0</td>\n",
       "    </tr>\n",
       "    <tr>\n",
       "      <th>297</th>\n",
       "      <td>1048.63</td>\n",
       "      <td>50000.0</td>\n",
       "    </tr>\n",
       "    <tr>\n",
       "      <th>6517</th>\n",
       "      <td>850.00</td>\n",
       "      <td>38000.0</td>\n",
       "    </tr>\n",
       "    <tr>\n",
       "      <th>1473</th>\n",
       "      <td>831.73</td>\n",
       "      <td>20000.0</td>\n",
       "    </tr>\n",
       "    <tr>\n",
       "      <th>34084</th>\n",
       "      <td>798.86</td>\n",
       "      <td>125000.0</td>\n",
       "    </tr>\n",
       "    <tr>\n",
       "      <th>570</th>\n",
       "      <td>742.00</td>\n",
       "      <td>100000.0</td>\n",
       "    </tr>\n",
       "    <tr>\n",
       "      <th>17773</th>\n",
       "      <td>708.00</td>\n",
       "      <td>50000.0</td>\n",
       "    </tr>\n",
       "    <tr>\n",
       "      <th>16877</th>\n",
       "      <td>689.67</td>\n",
       "      <td>53000.0</td>\n",
       "    </tr>\n",
       "    <tr>\n",
       "      <th>6987</th>\n",
       "      <td>638.45</td>\n",
       "      <td>88000.0</td>\n",
       "    </tr>\n",
       "  </tbody>\n",
       "</table>\n",
       "</div>"
      ],
      "text/plain": [
       "           area  tradeMoney\n",
       "2752   15055.00     11200.0\n",
       "29693   3000.00      2350.0\n",
       "297     1048.63     50000.0\n",
       "6517     850.00     38000.0\n",
       "1473     831.73     20000.0\n",
       "34084    798.86    125000.0\n",
       "570      742.00    100000.0\n",
       "17773    708.00     50000.0\n",
       "16877    689.67     53000.0\n",
       "6987     638.45     88000.0"
      ]
     },
     "execution_count": 9,
     "metadata": {},
     "output_type": "execute_result"
    }
   ],
   "source": [
    "df[['area','tradeMoney']].sort_values(ascending=False,by='area')[:10]"
   ]
  },
  {
   "cell_type": "markdown",
   "metadata": {},
   "source": [
    "- 从上面的结果来看，发现最大的房屋面积为15055平方米，相当于1.5个足球场，价格却不是很贵。\n",
    "- 还有面积为1平方米的，这个有点不正常"
   ]
  },
  {
   "cell_type": "markdown",
   "metadata": {},
   "source": [
    "### 2 rentType\n",
    "出租方式类别"
   ]
  },
  {
   "cell_type": "code",
   "execution_count": 10,
   "metadata": {},
   "outputs": [
    {
     "data": {
      "text/plain": [
       "未知方式    32944\n",
       "整租       5736\n",
       "合租       5224\n",
       "--          5\n",
       "Name: rentType, dtype: int64"
      ]
     },
     "execution_count": 10,
     "metadata": {},
     "output_type": "execute_result"
    }
   ],
   "source": [
    "df['rentType'].value_counts()"
   ]
  },
  {
   "cell_type": "markdown",
   "metadata": {},
   "source": [
    "我们可以看到，有接近80%的房屋不知道出租方式，其中还有5个--，我们将其处理为未知方式"
   ]
  },
  {
   "cell_type": "code",
   "execution_count": 11,
   "metadata": {},
   "outputs": [],
   "source": [
    "df['rentType']=df['rentType'].replace('--','未知方式')"
   ]
  },
  {
   "cell_type": "code",
   "execution_count": 12,
   "metadata": {},
   "outputs": [
    {
     "data": {
      "text/plain": [
       "未知方式    32949\n",
       "整租       5736\n",
       "合租       5224\n",
       "Name: rentType, dtype: int64"
      ]
     },
     "execution_count": 12,
     "metadata": {},
     "output_type": "execute_result"
    }
   ],
   "source": [
    "df['rentType'].value_counts()"
   ]
  },
  {
   "cell_type": "markdown",
   "metadata": {},
   "source": [
    "我们再看下整租和合租的价格分布"
   ]
  },
  {
   "cell_type": "code",
   "execution_count": 13,
   "metadata": {},
   "outputs": [
    {
     "data": {
      "text/plain": [
       "count        5472\n",
       "mean        24393\n",
       "std       1351773\n",
       "min             0\n",
       "25%          3660\n",
       "50%          4660\n",
       "75%          6500\n",
       "max      99999999\n",
       "Name: tradeMoney, dtype: int64"
      ]
     },
     "execution_count": 13,
     "metadata": {},
     "output_type": "execute_result"
    }
   ],
   "source": [
    "df[df['rentType']=='整租']['tradeMoney'].describe().astype('int')"
   ]
  },
  {
   "cell_type": "code",
   "execution_count": 14,
   "metadata": {
    "scrolled": true
   },
   "outputs": [
    {
     "data": {
      "text/plain": [
       "count    5204\n",
       "mean     2063\n",
       "std       625\n",
       "min       630\n",
       "25%      1630\n",
       "50%      1990\n",
       "75%      2430\n",
       "max      5360\n",
       "Name: tradeMoney, dtype: int64"
      ]
     },
     "execution_count": 14,
     "metadata": {},
     "output_type": "execute_result"
    }
   ],
   "source": [
    "df[df['rentType']=='合租']['tradeMoney'].describe().astype('int')"
   ]
  },
  {
   "cell_type": "markdown",
   "metadata": {},
   "source": [
    "我们发现存在整租一些异常值，比如99999999(这是天安门吗？)， 还有一些最小值，比如0.。合租的数据还可以。我们稍后处理下tradeMoney的异常值"
   ]
  },
  {
   "cell_type": "markdown",
   "metadata": {},
   "source": [
    "### 3 houseType\n",
    "房屋类型，房屋的形状"
   ]
  },
  {
   "cell_type": "code",
   "execution_count": 15,
   "metadata": {},
   "outputs": [
    {
     "data": {
      "text/plain": [
       "1室1厅1卫    10382\n",
       "2室1厅1卫     9153\n",
       "2室2厅1卫     7269\n",
       "3室1厅1卫     4091\n",
       "3室2厅2卫     2951\n",
       "3室2厅1卫     2050\n",
       "4室1厅1卫     1971\n",
       "1室0厅1卫     1365\n",
       "1室2厅1卫      979\n",
       "2室2厅2卫      948\n",
       "2室0厅1卫      461\n",
       "4室2厅2卫      453\n",
       "4室2厅3卫      278\n",
       "5室1厅1卫      200\n",
       "2室1厅2卫      164\n",
       "3室2厅3卫      153\n",
       "3室1厅2卫      144\n",
       "1室0厅0卫       89\n",
       "6室1厅1卫       65\n",
       "4室2厅4卫       62\n",
       "5室2厅3卫       54\n",
       "1室1厅2卫       42\n",
       "4室2厅1卫       40\n",
       "5室2厅2卫       35\n",
       "4室3厅4卫       34\n",
       "4室3厅3卫       34\n",
       "5室3厅3卫       30\n",
       "5室2厅4卫       30\n",
       "4室1厅2卫       23\n",
       "3室0厅1卫       21\n",
       "Name: houseType, dtype: int64"
      ]
     },
     "execution_count": 15,
     "metadata": {},
     "output_type": "execute_result"
    }
   ],
   "source": [
    "df['houseType'].value_counts()[:30]"
   ]
  },
  {
   "cell_type": "markdown",
   "metadata": {},
   "source": [
    "我们可以看到房屋类型种类特别多，我们可以根据种类计数，重新对房屋类型进行编码，以区分当前房屋是否为常见房屋类型。"
   ]
  },
  {
   "cell_type": "code",
   "execution_count": 16,
   "metadata": {
    "scrolled": false
   },
   "outputs": [],
   "source": [
    "# keys=df['houseType'].value_counts().index.tolist()\n",
    "# values=df['houseType'].value_counts().values.tolist()\n",
    "# house_type_nums=dict(zip(keys,values))\n",
    "house_type_nums=df['houseType'].value_counts().to_dict()"
   ]
  },
  {
   "cell_type": "code",
   "execution_count": 17,
   "metadata": {
    "scrolled": false
   },
   "outputs": [
    {
     "data": {
      "text/plain": [
       "high_num      39232\n",
       "median_num     3780\n",
       "low_num         897\n",
       "Name: houseType, dtype: int64"
      ]
     },
     "execution_count": 17,
     "metadata": {},
     "output_type": "execute_result"
    }
   ],
   "source": [
    "def check_type(x):\n",
    "    if house_type_nums[x]>=1000:\n",
    "        return \"high_num\"\n",
    "    elif house_type_nums[x]<1000 and house_type_nums[x]>=100:\n",
    "        return \"median_num\"\n",
    "    else:\n",
    "        return \"low_num\"\n",
    "df['houseType']=df['houseType'].apply(lambda x:check_type(x))\n",
    "df['houseType'].value_counts()"
   ]
  },
  {
   "cell_type": "markdown",
   "metadata": {},
   "source": [
    "### 4 houseFloor \n",
    "所在楼层"
   ]
  },
  {
   "cell_type": "code",
   "execution_count": 18,
   "metadata": {},
   "outputs": [
    {
     "data": {
      "text/plain": [
       "中    16389\n",
       "高    14908\n",
       "低    12612\n",
       "Name: houseFloor, dtype: int64"
      ]
     },
     "execution_count": 18,
     "metadata": {},
     "output_type": "execute_result"
    }
   ],
   "source": [
    "df['houseFloor'].value_counts()"
   ]
  },
  {
   "cell_type": "markdown",
   "metadata": {},
   "source": [
    "中高层数量差不多，但是我们知道楼层高的话可能稍微便宜一些，所以我们编码的时候采取有次序的编码，这个我们稍后做统一的处理"
   ]
  },
  {
   "cell_type": "markdown",
   "metadata": {},
   "source": [
    "### 5 totalFloor\n",
    "总楼层数"
   ]
  },
  {
   "cell_type": "code",
   "execution_count": 19,
   "metadata": {},
   "outputs": [
    {
     "data": {
      "image/png": "[encoded data removed]",
      "text/plain": [
       "<Figure size 432x288 with 1 Axes>"
      ]
     },
     "metadata": {
      "needs_background": "light"
     },
     "output_type": "display_data"
    }
   ],
   "source": [
    "sns.distplot(df['totalFloor'])\n",
    "plt.show()"
   ]
  },
  {
   "cell_type": "code",
   "execution_count": 20,
   "metadata": {},
   "outputs": [
    {
     "data": {
      "text/plain": [
       "count    43909.000000\n",
       "mean        11.377349\n",
       "std          7.354010\n",
       "min          0.000000\n",
       "25%          6.000000\n",
       "50%          7.000000\n",
       "75%         16.000000\n",
       "max         88.000000\n",
       "Name: totalFloor, dtype: float64"
      ]
     },
     "execution_count": 20,
     "metadata": {},
     "output_type": "execute_result"
    }
   ],
   "source": [
    "df['totalFloor'].describe()"
   ]
  },
  {
   "cell_type": "markdown",
   "metadata": {},
   "source": [
    "我们发现楼层数数量为0的，我们看下这部分数据房间所在的楼层数"
   ]
  },
  {
   "cell_type": "code",
   "execution_count": 21,
   "metadata": {},
   "outputs": [
    {
     "data": {
      "text/plain": [
       "5434     低\n",
       "16232    低\n",
       "21855    低\n",
       "35478    低\n",
       "38137    低\n",
       "Name: houseFloor, dtype: object"
      ]
     },
     "execution_count": 21,
     "metadata": {},
     "output_type": "execute_result"
    }
   ],
   "source": [
    "df[df['totalFloor']==0]['houseFloor']"
   ]
  },
  {
   "cell_type": "markdown",
   "metadata": {},
   "source": [
    "### 6 houseToward\n",
    "房屋朝向"
   ]
  },
  {
   "cell_type": "code",
   "execution_count": 22,
   "metadata": {},
   "outputs": [
    {
     "data": {
      "text/plain": [
       "南       35043\n",
       "南北       2784\n",
       "暂无数据     2136\n",
       "北        2043\n",
       "东南        658\n",
       "东         553\n",
       "西南        323\n",
       "西         275\n",
       "西北         70\n",
       "东西         24\n",
       "Name: houseToward, dtype: int64"
      ]
     },
     "execution_count": 22,
     "metadata": {},
     "output_type": "execute_result"
    }
   ],
   "source": [
    "df['houseToward'].value_counts()"
   ]
  },
  {
   "cell_type": "markdown",
   "metadata": {},
   "source": [
    "### 7 houseDecoration\n",
    "房屋装修"
   ]
  },
  {
   "cell_type": "code",
   "execution_count": 23,
   "metadata": {},
   "outputs": [
    {
     "data": {
      "text/plain": [
       "其他    31021\n",
       "精装    11288\n",
       "简装     1273\n",
       "毛坯      327\n",
       "Name: houseDecoration, dtype: int64"
      ]
     },
     "execution_count": 23,
     "metadata": {},
     "output_type": "execute_result"
    }
   ],
   "source": [
    "df['houseDecoration'].value_counts()"
   ]
  },
  {
   "cell_type": "markdown",
   "metadata": {},
   "source": [
    "## 小区信息\n",
    "### 8  communityName\n",
    "小区名称"
   ]
  },
  {
   "cell_type": "code",
   "execution_count": 24,
   "metadata": {},
   "outputs": [
    {
     "data": {
      "text/plain": [
       "XQ01834    359\n",
       "XQ01274    193\n",
       "XQ02273    189\n",
       "XQ03110    186\n",
       "XQ02337    174\n",
       "XQ01389    167\n",
       "XQ01658    164\n",
       "XQ02789    153\n",
       "XQ00530    152\n",
       "XQ01561    152\n",
       "XQ01339    133\n",
       "XQ01873    123\n",
       "XQ00826    123\n",
       "XQ02296    122\n",
       "XQ01232    120\n",
       "XQ01401    119\n",
       "XQ02441    118\n",
       "XQ00196    116\n",
       "XQ01207    110\n",
       "XQ02365    110\n",
       "XQ01410    109\n",
       "XQ00852    106\n",
       "XQ02072    104\n",
       "XQ01672    104\n",
       "XQ01642    100\n",
       "XQ01634    100\n",
       "XQ01375    100\n",
       "XQ01970     97\n",
       "XQ00210     94\n",
       "XQ00424     93\n",
       "          ... \n",
       "XQ01931      1\n",
       "XQ01156      1\n",
       "XQ02949      1\n",
       "XQ00081      1\n",
       "XQ00224      1\n",
       "XQ02505      1\n",
       "XQ00699      1\n",
       "XQ03746      1\n",
       "XQ00709      1\n",
       "XQ04029      1\n",
       "XQ02189      1\n",
       "XQ03572      1\n",
       "XQ02020      1\n",
       "XQ02227      1\n",
       "XQ02383      1\n",
       "XQ00284      1\n",
       "XQ02860      1\n",
       "XQ02412      1\n",
       "XQ01655      1\n",
       "XQ02408      1\n",
       "XQ01206      1\n",
       "XQ01734      1\n",
       "XQ02419      1\n",
       "XQ00353      1\n",
       "XQ02772      1\n",
       "XQ03881      1\n",
       "XQ02415      1\n",
       "XQ00030      1\n",
       "XQ03839      1\n",
       "XQ02978      1\n",
       "Name: communityName, Length: 4236, dtype: int64"
      ]
     },
     "execution_count": 24,
     "metadata": {},
     "output_type": "execute_result"
    }
   ],
   "source": [
    "df['communityName'].value_counts()"
   ]
  },
  {
   "cell_type": "markdown",
   "metadata": {},
   "source": [
    "我们发现有四千多个小区，这个应该是比较重要的特征，比如一个小区的租房价格整体比较贵"
   ]
  },
  {
   "cell_type": "markdown",
   "metadata": {},
   "source": [
    "### 9 city\n",
    "城市"
   ]
  },
  {
   "cell_type": "code",
   "execution_count": 25,
   "metadata": {},
   "outputs": [
    {
     "data": {
      "text/plain": [
       "SH    43909\n",
       "Name: city, dtype: int64"
      ]
     },
     "execution_count": 25,
     "metadata": {},
     "output_type": "execute_result"
    }
   ],
   "source": [
    "df['city'].value_counts()"
   ]
  },
  {
   "cell_type": "markdown",
   "metadata": {},
   "source": [
    "可以看到只有上海这一个城市，所以不要这个特征"
   ]
  },
  {
   "cell_type": "markdown",
   "metadata": {},
   "source": [
    "### 10 region\n",
    "城市行政区域"
   ]
  },
  {
   "cell_type": "code",
   "execution_count": 26,
   "metadata": {},
   "outputs": [
    {
     "data": {
      "text/plain": [
       "RG00002    12161\n",
       "RG00005     6050\n",
       "RG00003     4364\n",
       "RG00010     3834\n",
       "RG00012     3630\n",
       "RG00004     3486\n",
       "RG00006     2016\n",
       "RG00007     1752\n",
       "RG00008     1336\n",
       "RG00013     1312\n",
       "RG00001     1234\n",
       "RG00014     1155\n",
       "RG00011      836\n",
       "RG00009      742\n",
       "RG00015        1\n",
       "Name: region, dtype: int64"
      ]
     },
     "execution_count": 26,
     "metadata": {},
     "output_type": "execute_result"
    }
   ],
   "source": [
    "df['region'].value_counts()"
   ]
  },
  {
   "cell_type": "code",
   "execution_count": 27,
   "metadata": {},
   "outputs": [
    {
     "data": {
      "text/html": [
       "<div>\n",
       "<style scoped>\n",
       "    .dataframe tbody tr th:only-of-type {\n",
       "        vertical-align: middle;\n",
       "    }\n",
       "\n",
       "    .dataframe tbody tr th {\n",
       "        vertical-align: top;\n",
       "    }\n",
       "\n",
       "    .dataframe thead th {\n",
       "        text-align: right;\n",
       "    }\n",
       "</style>\n",
       "<table border=\"1\" class=\"dataframe\">\n",
       "  <thead>\n",
       "    <tr style=\"text-align: right;\">\n",
       "      <th></th>\n",
       "      <th>tradeMoney</th>\n",
       "    </tr>\n",
       "    <tr>\n",
       "      <th>region</th>\n",
       "      <th></th>\n",
       "    </tr>\n",
       "  </thead>\n",
       "  <tbody>\n",
       "    <tr>\n",
       "      <th>RG00002</th>\n",
       "      <td>15059.614059</td>\n",
       "    </tr>\n",
       "    <tr>\n",
       "      <th>RG00005</th>\n",
       "      <td>14162.471162</td>\n",
       "    </tr>\n",
       "    <tr>\n",
       "      <th>RG00013</th>\n",
       "      <td>8433.372016</td>\n",
       "    </tr>\n",
       "    <tr>\n",
       "      <th>RG00009</th>\n",
       "      <td>7718.173275</td>\n",
       "    </tr>\n",
       "    <tr>\n",
       "      <th>RG00008</th>\n",
       "      <td>7022.754400</td>\n",
       "    </tr>\n",
       "    <tr>\n",
       "      <th>RG00011</th>\n",
       "      <td>6639.276166</td>\n",
       "    </tr>\n",
       "    <tr>\n",
       "      <th>RG00001</th>\n",
       "      <td>5510.984443</td>\n",
       "    </tr>\n",
       "    <tr>\n",
       "      <th>RG00014</th>\n",
       "      <td>5109.809167</td>\n",
       "    </tr>\n",
       "    <tr>\n",
       "      <th>RG00007</th>\n",
       "      <td>4867.021739</td>\n",
       "    </tr>\n",
       "    <tr>\n",
       "      <th>RG00012</th>\n",
       "      <td>4542.353919</td>\n",
       "    </tr>\n",
       "    <tr>\n",
       "      <th>RG00003</th>\n",
       "      <td>4197.520784</td>\n",
       "    </tr>\n",
       "    <tr>\n",
       "      <th>RG00004</th>\n",
       "      <td>3827.168317</td>\n",
       "    </tr>\n",
       "    <tr>\n",
       "      <th>RG00010</th>\n",
       "      <td>3806.496429</td>\n",
       "    </tr>\n",
       "    <tr>\n",
       "      <th>RG00006</th>\n",
       "      <td>2034.853136</td>\n",
       "    </tr>\n",
       "    <tr>\n",
       "      <th>RG00015</th>\n",
       "      <td>1200.000000</td>\n",
       "    </tr>\n",
       "  </tbody>\n",
       "</table>\n",
       "</div>"
      ],
      "text/plain": [
       "           tradeMoney\n",
       "region               \n",
       "RG00002  15059.614059\n",
       "RG00005  14162.471162\n",
       "RG00013   8433.372016\n",
       "RG00009   7718.173275\n",
       "RG00008   7022.754400\n",
       "RG00011   6639.276166\n",
       "RG00001   5510.984443\n",
       "RG00014   5109.809167\n",
       "RG00007   4867.021739\n",
       "RG00012   4542.353919\n",
       "RG00003   4197.520784\n",
       "RG00004   3827.168317\n",
       "RG00010   3806.496429\n",
       "RG00006   2034.853136\n",
       "RG00015   1200.000000"
      ]
     },
     "execution_count": 27,
     "metadata": {},
     "output_type": "execute_result"
    }
   ],
   "source": [
    "df[['region','tradeMoney']].groupby(\"region\").mean().sort_values(ascending=False,by=\"tradeMoney\")"
   ]
  },
  {
   "cell_type": "markdown",
   "metadata": {},
   "source": [
    "从这里可以看出差异比较大，各个区域的租房平均差别比较大"
   ]
  },
  {
   "cell_type": "markdown",
   "metadata": {},
   "source": [
    "### 11 plate\n",
    "板块，区域板块"
   ]
  },
  {
   "cell_type": "code",
   "execution_count": 28,
   "metadata": {},
   "outputs": [
    {
     "data": {
      "text/plain": [
       "BK00031    2013\n",
       "BK00033    1929\n",
       "BK00045    1894\n",
       "BK00055    1665\n",
       "BK00056    1641\n",
       "BK00052    1474\n",
       "BK00054    1370\n",
       "BK00017    1365\n",
       "BK00041    1323\n",
       "BK00051    1307\n",
       "BK00046    1264\n",
       "BK00035    1217\n",
       "BK00042    1181\n",
       "BK00009    1082\n",
       "BK00050    1023\n",
       "BK00043     982\n",
       "BK00026     956\n",
       "BK00047     926\n",
       "BK00034     902\n",
       "BK00013     891\n",
       "BK00053     860\n",
       "BK00028     824\n",
       "BK00060     715\n",
       "BK00010     715\n",
       "BK00040     703\n",
       "BK00029     688\n",
       "BK00018     651\n",
       "BK00062     648\n",
       "BK00022     645\n",
       "BK00064     639\n",
       "           ... \n",
       "BK00037     475\n",
       "BK00012     455\n",
       "BK00024     433\n",
       "BK00038     425\n",
       "BK00020     403\n",
       "BK00002     388\n",
       "BK00027     380\n",
       "BK00039     365\n",
       "BK00065     363\n",
       "BK00057     294\n",
       "BK00063     292\n",
       "BK00015     271\n",
       "BK00006     250\n",
       "BK00007     246\n",
       "BK00030     240\n",
       "BK00021     237\n",
       "BK00066     232\n",
       "BK00008     223\n",
       "BK00049     220\n",
       "BK00004     209\n",
       "BK00048     175\n",
       "BK00025     170\n",
       "BK00023     139\n",
       "BK00059     130\n",
       "BK00044     105\n",
       "BK00016      43\n",
       "BK00036      34\n",
       "BK00058      15\n",
       "BK00032       3\n",
       "BK00001       1\n",
       "Name: plate, Length: 66, dtype: int64"
      ]
     },
     "execution_count": 28,
     "metadata": {},
     "output_type": "execute_result"
    }
   ],
   "source": [
    "df['plate'].value_counts()"
   ]
  },
  {
   "cell_type": "code",
   "execution_count": 29,
   "metadata": {},
   "outputs": [
    {
     "data": {
      "text/html": [
       "<div>\n",
       "<style scoped>\n",
       "    .dataframe tbody tr th:only-of-type {\n",
       "        vertical-align: middle;\n",
       "    }\n",
       "\n",
       "    .dataframe tbody tr th {\n",
       "        vertical-align: top;\n",
       "    }\n",
       "\n",
       "    .dataframe thead th {\n",
       "        text-align: right;\n",
       "    }\n",
       "</style>\n",
       "<table border=\"1\" class=\"dataframe\">\n",
       "  <thead>\n",
       "    <tr style=\"text-align: right;\">\n",
       "      <th></th>\n",
       "      <th>tradeMoney</th>\n",
       "    </tr>\n",
       "    <tr>\n",
       "      <th>plate</th>\n",
       "      <th></th>\n",
       "    </tr>\n",
       "  </thead>\n",
       "  <tbody>\n",
       "    <tr>\n",
       "      <th>BK00060</th>\n",
       "      <td>160850.506692</td>\n",
       "    </tr>\n",
       "    <tr>\n",
       "      <th>BK00034</th>\n",
       "      <td>64401.102473</td>\n",
       "    </tr>\n",
       "    <tr>\n",
       "      <th>BK00008</th>\n",
       "      <td>16577.309524</td>\n",
       "    </tr>\n",
       "    <tr>\n",
       "      <th>BK00037</th>\n",
       "      <td>10932.583333</td>\n",
       "    </tr>\n",
       "    <tr>\n",
       "      <th>BK00036</th>\n",
       "      <td>10752.000000</td>\n",
       "    </tr>\n",
       "    <tr>\n",
       "      <th>BK00006</th>\n",
       "      <td>10700.974026</td>\n",
       "    </tr>\n",
       "    <tr>\n",
       "      <th>BK00063</th>\n",
       "      <td>10356.106762</td>\n",
       "    </tr>\n",
       "    <tr>\n",
       "      <th>BK00051</th>\n",
       "      <td>10070.687949</td>\n",
       "    </tr>\n",
       "    <tr>\n",
       "      <th>BK00061</th>\n",
       "      <td>10039.262055</td>\n",
       "    </tr>\n",
       "    <tr>\n",
       "      <th>BK00023</th>\n",
       "      <td>8904.488189</td>\n",
       "    </tr>\n",
       "    <tr>\n",
       "      <th>BK00025</th>\n",
       "      <td>8239.872611</td>\n",
       "    </tr>\n",
       "    <tr>\n",
       "      <th>BK00014</th>\n",
       "      <td>8187.664000</td>\n",
       "    </tr>\n",
       "    <tr>\n",
       "      <th>BK00027</th>\n",
       "      <td>7532.601744</td>\n",
       "    </tr>\n",
       "    <tr>\n",
       "      <th>BK00050</th>\n",
       "      <td>7440.582227</td>\n",
       "    </tr>\n",
       "    <tr>\n",
       "      <th>BK00024</th>\n",
       "      <td>7132.357683</td>\n",
       "    </tr>\n",
       "    <tr>\n",
       "      <th>BK00007</th>\n",
       "      <td>6909.066667</td>\n",
       "    </tr>\n",
       "    <tr>\n",
       "      <th>BK00026</th>\n",
       "      <td>6829.169978</td>\n",
       "    </tr>\n",
       "    <tr>\n",
       "      <th>BK00038</th>\n",
       "      <td>6488.751256</td>\n",
       "    </tr>\n",
       "    <tr>\n",
       "      <th>BK00030</th>\n",
       "      <td>6342.150685</td>\n",
       "    </tr>\n",
       "    <tr>\n",
       "      <th>BK00064</th>\n",
       "      <td>6269.188136</td>\n",
       "    </tr>\n",
       "  </tbody>\n",
       "</table>\n",
       "</div>"
      ],
      "text/plain": [
       "            tradeMoney\n",
       "plate                 \n",
       "BK00060  160850.506692\n",
       "BK00034   64401.102473\n",
       "BK00008   16577.309524\n",
       "BK00037   10932.583333\n",
       "BK00036   10752.000000\n",
       "BK00006   10700.974026\n",
       "BK00063   10356.106762\n",
       "BK00051   10070.687949\n",
       "BK00061   10039.262055\n",
       "BK00023    8904.488189\n",
       "BK00025    8239.872611\n",
       "BK00014    8187.664000\n",
       "BK00027    7532.601744\n",
       "BK00050    7440.582227\n",
       "BK00024    7132.357683\n",
       "BK00007    6909.066667\n",
       "BK00026    6829.169978\n",
       "BK00038    6488.751256\n",
       "BK00030    6342.150685\n",
       "BK00064    6269.188136"
      ]
     },
     "execution_count": 29,
     "metadata": {},
     "output_type": "execute_result"
    }
   ],
   "source": [
    "df[['plate','tradeMoney']].groupby(\"plate\").mean().sort_values(ascending=False,by=\"tradeMoney\")[:20]"
   ]
  },
  {
   "cell_type": "markdown",
   "metadata": {},
   "source": [
    "从上面可以看出不同板块，房价也相差比较大"
   ]
  },
  {
   "cell_type": "markdown",
   "metadata": {},
   "source": [
    "### 12 buildYear"
   ]
  },
  {
   "cell_type": "code",
   "execution_count": 49,
   "metadata": {},
   "outputs": [
    {
     "data": {
      "text/plain": [
       "1994    3029\n",
       "暂无信息    2936\n",
       "2006    2106\n",
       "2007    1932\n",
       "2008    1931\n",
       "2005    1915\n",
       "2010    1847\n",
       "1995    1818\n",
       "1993    1634\n",
       "2011    1568\n",
       "2004    1510\n",
       "2009    1329\n",
       "2014    1303\n",
       "2003    1242\n",
       "1997    1217\n",
       "2002    1192\n",
       "2012    1119\n",
       "1996    1070\n",
       "2000     988\n",
       "2001     948\n",
       "Name: buildYear, dtype: int64"
      ]
     },
     "execution_count": 49,
     "metadata": {},
     "output_type": "execute_result"
    }
   ],
   "source": [
    "df['buildYear'].value_counts()[:20]"
   ]
  },
  {
   "cell_type": "code",
   "execution_count": 31,
   "metadata": {
    "scrolled": false
   },
   "outputs": [
    {
     "data": {
      "text/html": [
       "<div>\n",
       "<style scoped>\n",
       "    .dataframe tbody tr th:only-of-type {\n",
       "        vertical-align: middle;\n",
       "    }\n",
       "\n",
       "    .dataframe tbody tr th {\n",
       "        vertical-align: top;\n",
       "    }\n",
       "\n",
       "    .dataframe thead th {\n",
       "        text-align: right;\n",
       "    }\n",
       "</style>\n",
       "<table border=\"1\" class=\"dataframe\">\n",
       "  <thead>\n",
       "    <tr style=\"text-align: right;\">\n",
       "      <th></th>\n",
       "      <th>tradeMoney</th>\n",
       "    </tr>\n",
       "    <tr>\n",
       "      <th>buildYear</th>\n",
       "      <th></th>\n",
       "    </tr>\n",
       "  </thead>\n",
       "  <tbody>\n",
       "    <tr>\n",
       "      <th>2003</th>\n",
       "      <td>94050.401375</td>\n",
       "    </tr>\n",
       "    <tr>\n",
       "      <th>1994</th>\n",
       "      <td>21719.523325</td>\n",
       "    </tr>\n",
       "    <tr>\n",
       "      <th>2017</th>\n",
       "      <td>21595.428571</td>\n",
       "    </tr>\n",
       "    <tr>\n",
       "      <th>2008</th>\n",
       "      <td>10586.965928</td>\n",
       "    </tr>\n",
       "    <tr>\n",
       "      <th>2002</th>\n",
       "      <td>7266.141964</td>\n",
       "    </tr>\n",
       "    <tr>\n",
       "      <th>1931</th>\n",
       "      <td>7223.363636</td>\n",
       "    </tr>\n",
       "    <tr>\n",
       "      <th>1998</th>\n",
       "      <td>6708.814461</td>\n",
       "    </tr>\n",
       "    <tr>\n",
       "      <th>2016</th>\n",
       "      <td>6576.642857</td>\n",
       "    </tr>\n",
       "    <tr>\n",
       "      <th>1950</th>\n",
       "      <td>6500.000000</td>\n",
       "    </tr>\n",
       "    <tr>\n",
       "      <th>2015</th>\n",
       "      <td>6407.209524</td>\n",
       "    </tr>\n",
       "    <tr>\n",
       "      <th>2000</th>\n",
       "      <td>6393.641081</td>\n",
       "    </tr>\n",
       "    <tr>\n",
       "      <th>1939</th>\n",
       "      <td>6000.000000</td>\n",
       "    </tr>\n",
       "    <tr>\n",
       "      <th>1951</th>\n",
       "      <td>6000.000000</td>\n",
       "    </tr>\n",
       "    <tr>\n",
       "      <th>1936</th>\n",
       "      <td>5926.666667</td>\n",
       "    </tr>\n",
       "    <tr>\n",
       "      <th>2005</th>\n",
       "      <td>5828.097023</td>\n",
       "    </tr>\n",
       "    <tr>\n",
       "      <th>1910</th>\n",
       "      <td>5820.000000</td>\n",
       "    </tr>\n",
       "    <tr>\n",
       "      <th>2004</th>\n",
       "      <td>5750.700908</td>\n",
       "    </tr>\n",
       "    <tr>\n",
       "      <th>2001</th>\n",
       "      <td>5713.475501</td>\n",
       "    </tr>\n",
       "    <tr>\n",
       "      <th>2006</th>\n",
       "      <td>5685.629796</td>\n",
       "    </tr>\n",
       "    <tr>\n",
       "      <th>2007</th>\n",
       "      <td>5654.517558</td>\n",
       "    </tr>\n",
       "  </tbody>\n",
       "</table>\n",
       "</div>"
      ],
      "text/plain": [
       "             tradeMoney\n",
       "buildYear              \n",
       "2003       94050.401375\n",
       "1994       21719.523325\n",
       "2017       21595.428571\n",
       "2008       10586.965928\n",
       "2002        7266.141964\n",
       "1931        7223.363636\n",
       "1998        6708.814461\n",
       "2016        6576.642857\n",
       "1950        6500.000000\n",
       "2015        6407.209524\n",
       "2000        6393.641081\n",
       "1939        6000.000000\n",
       "1951        6000.000000\n",
       "1936        5926.666667\n",
       "2005        5828.097023\n",
       "1910        5820.000000\n",
       "2004        5750.700908\n",
       "2001        5713.475501\n",
       "2006        5685.629796\n",
       "2007        5654.517558"
      ]
     },
     "execution_count": 31,
     "metadata": {},
     "output_type": "execute_result"
    }
   ],
   "source": [
    "df[['buildYear','tradeMoney']].groupby(\"buildYear\").mean().sort_values(ascending=False,by=\"tradeMoney\")[:20]"
   ]
  },
  {
   "cell_type": "markdown",
   "metadata": {},
   "source": [
    "- 后来发现只要小区的名字一样，那么构建年份一样的，同样地；假如小区名字一样，如果有一个数据年份未知，那么同一个小区的构建年份未知；我们可以尝试使用。\n",
    "- 我们把范围扩大到地域加上板块（其实我们发现只要板块确定了，那么地域也确定了，是一个多对一的关系），我们可以根据相同地域下的不同板块的年份来填充“未知信息”\n"
   ]
  },
  {
   "cell_type": "code",
   "execution_count": 67,
   "metadata": {
    "scrolled": false
   },
   "outputs": [
    {
     "data": {
      "text/plain": [
       "plate    buildYear\n",
       "BK00001  1986           1\n",
       "BK00002  1995          78\n",
       "         2011          48\n",
       "         1994          33\n",
       "         2003          32\n",
       "         2006          28\n",
       "         2014          27\n",
       "         1993          26\n",
       "         2013          25\n",
       "         1960          23\n",
       "         1999          22\n",
       "         1997          13\n",
       "         2012           8\n",
       "         2004           5\n",
       "         暂无信息           5\n",
       "         1991           4\n",
       "         1996           4\n",
       "         1992           3\n",
       "         2000           2\n",
       "         2008           1\n",
       "         2010           1\n",
       "BK00003  2004         101\n",
       "         2003          74\n",
       "         1997          62\n",
       "         2006          62\n",
       "         1994          48\n",
       "         2000          40\n",
       "         2002          35\n",
       "         1998          24\n",
       "         1993          22\n",
       "                     ... \n",
       "BK00064  2014           2\n",
       "         1974           1\n",
       "         1976           1\n",
       "BK00065  1993         130\n",
       "         1994         107\n",
       "         1997          46\n",
       "         1995          33\n",
       "         1987          23\n",
       "         2005           8\n",
       "         1999           4\n",
       "         1998           3\n",
       "         1982           2\n",
       "         1996           2\n",
       "         2004           2\n",
       "         2008           2\n",
       "         1981           1\n",
       "BK00066  1977          56\n",
       "         1988          35\n",
       "         2005          34\n",
       "         1985          25\n",
       "         1989          20\n",
       "         1993          16\n",
       "         1994          15\n",
       "         1984          13\n",
       "         1958           5\n",
       "         1990           4\n",
       "         1995           3\n",
       "         2007           3\n",
       "         2006           2\n",
       "         2008           1\n",
       "Name: buildYear, Length: 1503, dtype: int64"
      ]
     },
     "execution_count": 67,
     "metadata": {},
     "output_type": "execute_result"
    }
   ],
   "source": [
    "df[['plate','buildYear']].groupby(\"plate\")['buildYear'].value_counts()"
   ]
  },
  {
   "cell_type": "code",
   "execution_count": 69,
   "metadata": {
    "scrolled": false
   },
   "outputs": [],
   "source": [
    "# for index,group in df[['plate','buildYear']].groupby(\"plate\"):\n",
    "#     print(index,'-----\\n',group['buildYear'].value_counts())"
   ]
  },
  {
   "cell_type": "markdown",
   "metadata": {},
   "source": [
    "### 13 saleSecHouseNum\n",
    "该板块当月挂牌房源数"
   ]
  },
  {
   "cell_type": "code",
   "execution_count": 32,
   "metadata": {},
   "outputs": [
    {
     "data": {
      "text/plain": [
       "0     31977\n",
       "1      2411\n",
       "2      2127\n",
       "3      1696\n",
       "4      1332\n",
       "5       837\n",
       "6       726\n",
       "7       620\n",
       "8       462\n",
       "9       301\n",
       "11      293\n",
       "10      249\n",
       "14      179\n",
       "13      155\n",
       "12      147\n",
       "18       80\n",
       "27       58\n",
       "15       54\n",
       "19       43\n",
       "21       40\n",
       "17       34\n",
       "16       21\n",
       "23       21\n",
       "20       20\n",
       "26       15\n",
       "38        6\n",
       "34        3\n",
       "52        2\n",
       "Name: saleSecHouseNum, dtype: int64"
      ]
     },
     "execution_count": 32,
     "metadata": {},
     "output_type": "execute_result"
    }
   ],
   "source": [
    "df['saleSecHouseNum'].value_counts()"
   ]
  },
  {
   "cell_type": "code",
   "execution_count": 33,
   "metadata": {},
   "outputs": [
    {
     "data": {
      "image/png": "[encoded data removed]",
      "text/plain": [
       "<Figure size 432x288 with 1 Axes>"
      ]
     },
     "metadata": {
      "needs_background": "light"
     },
     "output_type": "display_data"
    }
   ],
   "source": [
    "sns.distplot(df['saleSecHouseNum'])\n",
    "plt.show()"
   ]
  },
  {
   "cell_type": "code",
   "execution_count": 34,
   "metadata": {},
   "outputs": [],
   "source": [
    "# plt.plot(df['saleSecHouseNum'], df['tradeMoney'])\n",
    "# plt.show()\n"
   ]
  },
  {
   "cell_type": "markdown",
   "metadata": {},
   "source": [
    "## Y值分析 tradeMoney分析"
   ]
  },
  {
   "cell_type": "code",
   "execution_count": 35,
   "metadata": {},
   "outputs": [
    {
     "data": {
      "text/plain": [
       "count      41440.000\n",
       "mean        8837.074\n",
       "std       551428.655\n",
       "min            0.000\n",
       "25%         2800.000\n",
       "50%         4000.000\n",
       "75%         5500.000\n",
       "max     99999999.000\n",
       "Name: tradeMoney, dtype: float64"
      ]
     },
     "execution_count": 35,
     "metadata": {},
     "output_type": "execute_result"
    }
   ],
   "source": [
    "import numpy as np\n",
    "np.set_printoptions(suppress=True)\n",
    "pd.set_option('display.float_format', lambda x: '%.3f' % x)\n",
    "train['tradeMoney'].astype(int).describe()"
   ]
  },
  {
   "cell_type": "markdown",
   "metadata": {},
   "source": [
    "房价前十"
   ]
  },
  {
   "cell_type": "code",
   "execution_count": 44,
   "metadata": {},
   "outputs": [
    {
     "data": {
      "text/plain": [
       "36710   99999999.990\n",
       "32734   50000000.000\n",
       "30167   10000000.000\n",
       "33876     450000.000\n",
       "29204     450000.000\n",
       "22766     450000.000\n",
       "1636      450000.000\n",
       "35789     430000.000\n",
       "22918     380000.000\n",
       "21954     370000.000\n",
       "29020     360000.000\n",
       "19743     360000.000\n",
       "3875      360000.000\n",
       "39563     350000.000\n",
       "3952      320000.000\n",
       "5915      220000.000\n",
       "1277      180500.000\n",
       "34084     125000.000\n",
       "30601     116000.000\n",
       "570       100000.000\n",
       "15226      95000.000\n",
       "928        91666.000\n",
       "3520       90000.000\n",
       "28950      88600.000\n",
       "2088       88000.000\n",
       "6987       88000.000\n",
       "36317      87600.000\n",
       "1515       81971.000\n",
       "5856       80000.000\n",
       "31152      78800.000\n",
       "36003      72000.000\n",
       "35069      72000.000\n",
       "25595      70000.000\n",
       "39434      70000.000\n",
       "35992      70000.000\n",
       "29009      70000.000\n",
       "5903       70000.000\n",
       "5423       70000.000\n",
       "33631      68000.000\n",
       "23143      66500.000\n",
       "39319      66000.000\n",
       "1147       65000.000\n",
       "38036      63000.000\n",
       "313        60000.000\n",
       "10234      60000.000\n",
       "1262       60000.000\n",
       "34764      58000.000\n",
       "29514      57000.000\n",
       "39347      56800.000\n",
       "927        56000.000\n",
       "Name: tradeMoney, dtype: float64"
      ]
     },
     "execution_count": 44,
     "metadata": {},
     "output_type": "execute_result"
    }
   ],
   "source": [
    "train['tradeMoney'].sort_values(ascending=False)[:50]"
   ]
  },
  {
   "cell_type": "code",
   "execution_count": 37,
   "metadata": {},
   "outputs": [
    {
     "data": {
      "text/plain": [
       "24389   600.000\n",
       "4603    600.000\n",
       "26709   600.000\n",
       "39114   600.000\n",
       "30004   530.000\n",
       "38721   500.000\n",
       "21170   500.000\n",
       "7616    500.000\n",
       "21790   500.000\n",
       "17456   500.000\n",
       "31840   500.000\n",
       "38137   500.000\n",
       "3798    500.000\n",
       "32431   500.000\n",
       "5434    500.000\n",
       "1710    500.000\n",
       "165     500.000\n",
       "39287   430.000\n",
       "24514   400.000\n",
       "18282   370.000\n",
       "37141   350.000\n",
       "39204   320.000\n",
       "17384   300.000\n",
       "22480   300.000\n",
       "4083    300.000\n",
       "11508   300.000\n",
       "24093   300.000\n",
       "4415    300.000\n",
       "16317   250.000\n",
       "18671   230.000\n",
       "8169    220.000\n",
       "28513   210.000\n",
       "1588    200.000\n",
       "7844    160.000\n",
       "15561   160.000\n",
       "16911   160.000\n",
       "22955   150.000\n",
       "4185    140.000\n",
       "7719    140.000\n",
       "15795   140.000\n",
       "34056   100.000\n",
       "1215      0.000\n",
       "7591      0.000\n",
       "7692      0.000\n",
       "24688     0.000\n",
       "6485      0.000\n",
       "6885      0.000\n",
       "6493      0.000\n",
       "2775      0.000\n",
       "7638      0.000\n",
       "Name: tradeMoney, dtype: float64"
      ]
     },
     "execution_count": 37,
     "metadata": {},
     "output_type": "execute_result"
    }
   ],
   "source": [
    "train['tradeMoney'].sort_values(ascending=False)[-50:]"
   ]
  },
  {
   "cell_type": "code",
   "execution_count": 47,
   "metadata": {},
   "outputs": [
    {
     "data": {
      "image/png": "[encoded data removed]",
      "text/plain": [
       "<Figure size 432x288 with 1 Axes>"
      ]
     },
     "metadata": {
      "needs_background": "light"
     },
     "output_type": "display_data"
    }
   ],
   "source": [
    "sns.boxplot(train['tradeMoney'].sort_values(ascending=False)[-40000:])\n",
    "plt.show()"
   ]
  },
  {
   "cell_type": "markdown",
   "metadata": {},
   "source": [
    "我们可从上面统计结果可看出租金存在一些异常值，比如tradeMoney有的会是0或者99999999"
   ]
  },
  {
   "cell_type": "code",
   "execution_count": 39,
   "metadata": {
    "scrolled": false
   },
   "outputs": [
    {
     "data": {
      "text/html": [
       "<div>\n",
       "<style scoped>\n",
       "    .dataframe tbody tr th:only-of-type {\n",
       "        vertical-align: middle;\n",
       "    }\n",
       "\n",
       "    .dataframe tbody tr th {\n",
       "        vertical-align: top;\n",
       "    }\n",
       "\n",
       "    .dataframe thead th {\n",
       "        text-align: right;\n",
       "    }\n",
       "</style>\n",
       "<table border=\"1\" class=\"dataframe\">\n",
       "  <thead>\n",
       "    <tr style=\"text-align: right;\">\n",
       "      <th></th>\n",
       "      <th>ID</th>\n",
       "      <th>area</th>\n",
       "      <th>rentType</th>\n",
       "      <th>houseType</th>\n",
       "      <th>houseFloor</th>\n",
       "      <th>totalFloor</th>\n",
       "      <th>houseToward</th>\n",
       "      <th>houseDecoration</th>\n",
       "      <th>communityName</th>\n",
       "      <th>city</th>\n",
       "      <th>region</th>\n",
       "      <th>plate</th>\n",
       "      <th>buildYear</th>\n",
       "      <th>saleSecHouseNum</th>\n",
       "      <th>subwayStationNum</th>\n",
       "      <th>busStationNum</th>\n",
       "      <th>interSchoolNum</th>\n",
       "      <th>schoolNum</th>\n",
       "      <th>privateSchoolNum</th>\n",
       "      <th>hospitalNum</th>\n",
       "      <th>drugStoreNum</th>\n",
       "      <th>gymNum</th>\n",
       "      <th>bankNum</th>\n",
       "      <th>shopNum</th>\n",
       "      <th>parkNum</th>\n",
       "      <th>mallNum</th>\n",
       "      <th>superMarketNum</th>\n",
       "      <th>totalTradeMoney</th>\n",
       "      <th>totalTradeArea</th>\n",
       "      <th>tradeMeanPrice</th>\n",
       "      <th>tradeSecNum</th>\n",
       "      <th>totalNewTradeMoney</th>\n",
       "      <th>totalNewTradeArea</th>\n",
       "      <th>tradeNewMeanPrice</th>\n",
       "      <th>tradeNewNum</th>\n",
       "      <th>remainNewNum</th>\n",
       "      <th>supplyNewNum</th>\n",
       "      <th>supplyLandNum</th>\n",
       "      <th>supplyLandArea</th>\n",
       "      <th>tradeLandNum</th>\n",
       "      <th>tradeLandArea</th>\n",
       "      <th>landTotalPrice</th>\n",
       "      <th>landMeanPrice</th>\n",
       "      <th>totalWorkers</th>\n",
       "      <th>newWorkers</th>\n",
       "      <th>residentPopulation</th>\n",
       "      <th>pv</th>\n",
       "      <th>uv</th>\n",
       "      <th>lookNum</th>\n",
       "      <th>tradeTime</th>\n",
       "      <th>tradeMoney</th>\n",
       "    </tr>\n",
       "  </thead>\n",
       "  <tbody>\n",
       "    <tr>\n",
       "      <th>0</th>\n",
       "      <td>100309852</td>\n",
       "      <td>68.060</td>\n",
       "      <td>未知方式</td>\n",
       "      <td>2室1厅1卫</td>\n",
       "      <td>低</td>\n",
       "      <td>16</td>\n",
       "      <td>暂无数据</td>\n",
       "      <td>其他</td>\n",
       "      <td>XQ00051</td>\n",
       "      <td>SH</td>\n",
       "      <td>RG00001</td>\n",
       "      <td>BK00064</td>\n",
       "      <td>1953</td>\n",
       "      <td>0</td>\n",
       "      <td>7</td>\n",
       "      <td>36</td>\n",
       "      <td>0</td>\n",
       "      <td>28</td>\n",
       "      <td>1</td>\n",
       "      <td>1</td>\n",
       "      <td>12</td>\n",
       "      <td>15</td>\n",
       "      <td>16</td>\n",
       "      <td>76</td>\n",
       "      <td>5</td>\n",
       "      <td>3</td>\n",
       "      <td>22</td>\n",
       "      <td>355584000</td>\n",
       "      <td>7411.980</td>\n",
       "      <td>47974.226</td>\n",
       "      <td>111</td>\n",
       "      <td>810967373</td>\n",
       "      <td>7755</td>\n",
       "      <td>104573.485</td>\n",
       "      <td>25</td>\n",
       "      <td>264</td>\n",
       "      <td>0</td>\n",
       "      <td>0</td>\n",
       "      <td>0.000</td>\n",
       "      <td>0</td>\n",
       "      <td>0.000</td>\n",
       "      <td>0</td>\n",
       "      <td>0.000</td>\n",
       "      <td>28248</td>\n",
       "      <td>614</td>\n",
       "      <td>111546</td>\n",
       "      <td>1124.000</td>\n",
       "      <td>284.000</td>\n",
       "      <td>0</td>\n",
       "      <td>2018/11/28</td>\n",
       "      <td>2000.000</td>\n",
       "    </tr>\n",
       "    <tr>\n",
       "      <th>1</th>\n",
       "      <td>100307942</td>\n",
       "      <td>125.550</td>\n",
       "      <td>未知方式</td>\n",
       "      <td>3室2厅2卫</td>\n",
       "      <td>中</td>\n",
       "      <td>14</td>\n",
       "      <td>暂无数据</td>\n",
       "      <td>简装</td>\n",
       "      <td>XQ00130</td>\n",
       "      <td>SH</td>\n",
       "      <td>RG00002</td>\n",
       "      <td>BK00049</td>\n",
       "      <td>2007</td>\n",
       "      <td>0</td>\n",
       "      <td>2</td>\n",
       "      <td>184</td>\n",
       "      <td>0</td>\n",
       "      <td>26</td>\n",
       "      <td>0</td>\n",
       "      <td>1</td>\n",
       "      <td>27</td>\n",
       "      <td>5</td>\n",
       "      <td>16</td>\n",
       "      <td>163</td>\n",
       "      <td>6</td>\n",
       "      <td>4</td>\n",
       "      <td>51</td>\n",
       "      <td>5000000</td>\n",
       "      <td>122.830</td>\n",
       "      <td>40706.668</td>\n",
       "      <td>2</td>\n",
       "      <td>9668955</td>\n",
       "      <td>286</td>\n",
       "      <td>33807.535</td>\n",
       "      <td>2</td>\n",
       "      <td>4</td>\n",
       "      <td>0</td>\n",
       "      <td>0</td>\n",
       "      <td>0.000</td>\n",
       "      <td>0</td>\n",
       "      <td>0.000</td>\n",
       "      <td>0</td>\n",
       "      <td>0.000</td>\n",
       "      <td>14823</td>\n",
       "      <td>148</td>\n",
       "      <td>157552</td>\n",
       "      <td>701.000</td>\n",
       "      <td>22.000</td>\n",
       "      <td>1</td>\n",
       "      <td>2018/12/16</td>\n",
       "      <td>2000.000</td>\n",
       "    </tr>\n",
       "    <tr>\n",
       "      <th>2</th>\n",
       "      <td>100307764</td>\n",
       "      <td>132.000</td>\n",
       "      <td>未知方式</td>\n",
       "      <td>3室2厅2卫</td>\n",
       "      <td>低</td>\n",
       "      <td>32</td>\n",
       "      <td>暂无数据</td>\n",
       "      <td>其他</td>\n",
       "      <td>XQ00179</td>\n",
       "      <td>SH</td>\n",
       "      <td>RG00002</td>\n",
       "      <td>BK00050</td>\n",
       "      <td>暂无信息</td>\n",
       "      <td>3</td>\n",
       "      <td>6</td>\n",
       "      <td>60</td>\n",
       "      <td>1</td>\n",
       "      <td>43</td>\n",
       "      <td>2</td>\n",
       "      <td>3</td>\n",
       "      <td>24</td>\n",
       "      <td>35</td>\n",
       "      <td>37</td>\n",
       "      <td>85</td>\n",
       "      <td>6</td>\n",
       "      <td>4</td>\n",
       "      <td>30</td>\n",
       "      <td>1687284798</td>\n",
       "      <td>49071.300</td>\n",
       "      <td>34384.351</td>\n",
       "      <td>555</td>\n",
       "      <td>344894466</td>\n",
       "      <td>3143</td>\n",
       "      <td>109734.160</td>\n",
       "      <td>11</td>\n",
       "      <td>159</td>\n",
       "      <td>126</td>\n",
       "      <td>0</td>\n",
       "      <td>0.000</td>\n",
       "      <td>0</td>\n",
       "      <td>0.000</td>\n",
       "      <td>0</td>\n",
       "      <td>0.000</td>\n",
       "      <td>77645</td>\n",
       "      <td>520</td>\n",
       "      <td>131744</td>\n",
       "      <td>57.000</td>\n",
       "      <td>20.000</td>\n",
       "      <td>1</td>\n",
       "      <td>2018/12/22</td>\n",
       "      <td>16000.000</td>\n",
       "    </tr>\n",
       "    <tr>\n",
       "      <th>3</th>\n",
       "      <td>100306518</td>\n",
       "      <td>57.000</td>\n",
       "      <td>未知方式</td>\n",
       "      <td>1室1厅1卫</td>\n",
       "      <td>中</td>\n",
       "      <td>17</td>\n",
       "      <td>暂无数据</td>\n",
       "      <td>精装</td>\n",
       "      <td>XQ00313</td>\n",
       "      <td>SH</td>\n",
       "      <td>RG00002</td>\n",
       "      <td>BK00051</td>\n",
       "      <td>暂无信息</td>\n",
       "      <td>0</td>\n",
       "      <td>3</td>\n",
       "      <td>364</td>\n",
       "      <td>2</td>\n",
       "      <td>60</td>\n",
       "      <td>1</td>\n",
       "      <td>8</td>\n",
       "      <td>83</td>\n",
       "      <td>30</td>\n",
       "      <td>47</td>\n",
       "      <td>358</td>\n",
       "      <td>3</td>\n",
       "      <td>1</td>\n",
       "      <td>131</td>\n",
       "      <td>468272888</td>\n",
       "      <td>22809.700</td>\n",
       "      <td>20529.551</td>\n",
       "      <td>260</td>\n",
       "      <td>196307819</td>\n",
       "      <td>6418</td>\n",
       "      <td>30587.071</td>\n",
       "      <td>58</td>\n",
       "      <td>730</td>\n",
       "      <td>0</td>\n",
       "      <td>1</td>\n",
       "      <td>108037.800</td>\n",
       "      <td>1</td>\n",
       "      <td>108037.800</td>\n",
       "      <td>332760000</td>\n",
       "      <td>3080.033</td>\n",
       "      <td>8750</td>\n",
       "      <td>1665</td>\n",
       "      <td>253337</td>\n",
       "      <td>888.000</td>\n",
       "      <td>279.000</td>\n",
       "      <td>9</td>\n",
       "      <td>2018/12/21</td>\n",
       "      <td>1600.000</td>\n",
       "    </tr>\n",
       "    <tr>\n",
       "      <th>4</th>\n",
       "      <td>100305262</td>\n",
       "      <td>129.000</td>\n",
       "      <td>未知方式</td>\n",
       "      <td>3室2厅3卫</td>\n",
       "      <td>低</td>\n",
       "      <td>2</td>\n",
       "      <td>暂无数据</td>\n",
       "      <td>毛坯</td>\n",
       "      <td>XQ01257</td>\n",
       "      <td>SH</td>\n",
       "      <td>RG00003</td>\n",
       "      <td>BK00044</td>\n",
       "      <td>暂无信息</td>\n",
       "      <td>1</td>\n",
       "      <td>0</td>\n",
       "      <td>141</td>\n",
       "      <td>0</td>\n",
       "      <td>15</td>\n",
       "      <td>0</td>\n",
       "      <td>0</td>\n",
       "      <td>21</td>\n",
       "      <td>5</td>\n",
       "      <td>10</td>\n",
       "      <td>100</td>\n",
       "      <td>5</td>\n",
       "      <td>2</td>\n",
       "      <td>34</td>\n",
       "      <td>108851470</td>\n",
       "      <td>4463.620</td>\n",
       "      <td>24386.366</td>\n",
       "      <td>38</td>\n",
       "      <td>286722058</td>\n",
       "      <td>5608</td>\n",
       "      <td>51127.328</td>\n",
       "      <td>34</td>\n",
       "      <td>851</td>\n",
       "      <td>216</td>\n",
       "      <td>0</td>\n",
       "      <td>0.000</td>\n",
       "      <td>0</td>\n",
       "      <td>0.000</td>\n",
       "      <td>0</td>\n",
       "      <td>0.000</td>\n",
       "      <td>800</td>\n",
       "      <td>117</td>\n",
       "      <td>125309</td>\n",
       "      <td>2038.000</td>\n",
       "      <td>480.000</td>\n",
       "      <td>0</td>\n",
       "      <td>2018/11/18</td>\n",
       "      <td>2900.000</td>\n",
       "    </tr>\n",
       "  </tbody>\n",
       "</table>\n",
       "</div>"
      ],
      "text/plain": [
       "          ID    area rentType houseType houseFloor  totalFloor houseToward  \\\n",
       "0  100309852  68.060     未知方式    2室1厅1卫          低          16        暂无数据   \n",
       "1  100307942 125.550     未知方式    3室2厅2卫          中          14        暂无数据   \n",
       "2  100307764 132.000     未知方式    3室2厅2卫          低          32        暂无数据   \n",
       "3  100306518  57.000     未知方式    1室1厅1卫          中          17        暂无数据   \n",
       "4  100305262 129.000     未知方式    3室2厅3卫          低           2        暂无数据   \n",
       "\n",
       "  houseDecoration communityName city   region    plate buildYear  \\\n",
       "0              其他       XQ00051   SH  RG00001  BK00064      1953   \n",
       "1              简装       XQ00130   SH  RG00002  BK00049      2007   \n",
       "2              其他       XQ00179   SH  RG00002  BK00050      暂无信息   \n",
       "3              精装       XQ00313   SH  RG00002  BK00051      暂无信息   \n",
       "4              毛坯       XQ01257   SH  RG00003  BK00044      暂无信息   \n",
       "\n",
       "   saleSecHouseNum  subwayStationNum  busStationNum  interSchoolNum  \\\n",
       "0                0                 7             36               0   \n",
       "1                0                 2            184               0   \n",
       "2                3                 6             60               1   \n",
       "3                0                 3            364               2   \n",
       "4                1                 0            141               0   \n",
       "\n",
       "   schoolNum  privateSchoolNum  hospitalNum  drugStoreNum  gymNum  bankNum  \\\n",
       "0         28                 1            1            12      15       16   \n",
       "1         26                 0            1            27       5       16   \n",
       "2         43                 2            3            24      35       37   \n",
       "3         60                 1            8            83      30       47   \n",
       "4         15                 0            0            21       5       10   \n",
       "\n",
       "   shopNum  parkNum  mallNum  superMarketNum  totalTradeMoney  totalTradeArea  \\\n",
       "0       76        5        3              22        355584000        7411.980   \n",
       "1      163        6        4              51          5000000         122.830   \n",
       "2       85        6        4              30       1687284798       49071.300   \n",
       "3      358        3        1             131        468272888       22809.700   \n",
       "4      100        5        2              34        108851470        4463.620   \n",
       "\n",
       "   tradeMeanPrice  tradeSecNum  totalNewTradeMoney  totalNewTradeArea  \\\n",
       "0       47974.226          111           810967373               7755   \n",
       "1       40706.668            2             9668955                286   \n",
       "2       34384.351          555           344894466               3143   \n",
       "3       20529.551          260           196307819               6418   \n",
       "4       24386.366           38           286722058               5608   \n",
       "\n",
       "   tradeNewMeanPrice  tradeNewNum  remainNewNum  supplyNewNum  supplyLandNum  \\\n",
       "0         104573.485           25           264             0              0   \n",
       "1          33807.535            2             4             0              0   \n",
       "2         109734.160           11           159           126              0   \n",
       "3          30587.071           58           730             0              1   \n",
       "4          51127.328           34           851           216              0   \n",
       "\n",
       "   supplyLandArea  tradeLandNum  tradeLandArea  landTotalPrice  landMeanPrice  \\\n",
       "0           0.000             0          0.000               0          0.000   \n",
       "1           0.000             0          0.000               0          0.000   \n",
       "2           0.000             0          0.000               0          0.000   \n",
       "3      108037.800             1     108037.800       332760000       3080.033   \n",
       "4           0.000             0          0.000               0          0.000   \n",
       "\n",
       "   totalWorkers  newWorkers  residentPopulation       pv      uv  lookNum  \\\n",
       "0         28248         614              111546 1124.000 284.000        0   \n",
       "1         14823         148              157552  701.000  22.000        1   \n",
       "2         77645         520              131744   57.000  20.000        1   \n",
       "3          8750        1665              253337  888.000 279.000        9   \n",
       "4           800         117              125309 2038.000 480.000        0   \n",
       "\n",
       "    tradeTime  tradeMoney  \n",
       "0  2018/11/28    2000.000  \n",
       "1  2018/12/16    2000.000  \n",
       "2  2018/12/22   16000.000  \n",
       "3  2018/12/21    1600.000  \n",
       "4  2018/11/18    2900.000  "
      ]
     },
     "execution_count": 39,
     "metadata": {},
     "output_type": "execute_result"
    }
   ],
   "source": [
    "train.query(\"tradeMoney<=100000&tradeMoney>=500\").head()"
   ]
  },
  {
   "cell_type": "code",
   "execution_count": 40,
   "metadata": {},
   "outputs": [],
   "source": [
    "corr=train.corr()"
   ]
  },
  {
   "cell_type": "code",
   "execution_count": 41,
   "metadata": {},
   "outputs": [
    {
     "data": {
      "image/png": "[encoded data removed]",
      "text/plain": [
       "<Figure size 1440x720 with 2 Axes>"
      ]
     },
     "metadata": {
      "needs_background": "light"
     },
     "output_type": "display_data"
    }
   ],
   "source": [
    "f, ax= plt.subplots(figsize = (20, 10))\n",
    "\n",
    "sns.heatmap(corr,cmap='RdBu', linewidths = 0.05, ax = ax)\n",
    "plt.show()"
   ]
  },
  {
   "cell_type": "code",
   "execution_count": 42,
   "metadata": {},
   "outputs": [
    {
     "data": {
      "text/plain": [
       "ID                       0\n",
       "area                     0\n",
       "rentType                 0\n",
       "houseType                0\n",
       "houseFloor               0\n",
       "totalFloor               0\n",
       "houseToward              0\n",
       "houseDecoration          0\n",
       "communityName            0\n",
       "city                     0\n",
       "region                   0\n",
       "plate                    0\n",
       "buildYear                0\n",
       "saleSecHouseNum          0\n",
       "subwayStationNum         0\n",
       "busStationNum            0\n",
       "interSchoolNum           0\n",
       "schoolNum                0\n",
       "privateSchoolNum         0\n",
       "hospitalNum              0\n",
       "drugStoreNum             0\n",
       "gymNum                   0\n",
       "bankNum                  0\n",
       "shopNum                  0\n",
       "parkNum                  0\n",
       "mallNum                  0\n",
       "superMarketNum           0\n",
       "totalTradeMoney          0\n",
       "totalTradeArea           0\n",
       "tradeMeanPrice           0\n",
       "tradeSecNum              0\n",
       "totalNewTradeMoney       0\n",
       "totalNewTradeArea        0\n",
       "tradeNewMeanPrice        0\n",
       "tradeNewNum              0\n",
       "remainNewNum             0\n",
       "supplyNewNum             0\n",
       "supplyLandNum            0\n",
       "supplyLandArea           0\n",
       "tradeLandNum             0\n",
       "tradeLandArea            0\n",
       "landTotalPrice           0\n",
       "landMeanPrice            0\n",
       "totalWorkers             0\n",
       "newWorkers               0\n",
       "residentPopulation       0\n",
       "pv                      20\n",
       "uv                      20\n",
       "lookNum                  0\n",
       "tradeTime                0\n",
       "tradeMoney            2469\n",
       "dtype: int64"
      ]
     },
     "execution_count": 42,
     "metadata": {},
     "output_type": "execute_result"
    }
   ],
   "source": [
    "df.shape[0] - df.count()"
   ]
  },
  {
   "cell_type": "code",
   "execution_count": null,
   "metadata": {},
   "outputs": [],
   "source": []
  }
 ],
 "metadata": {
  "kernelspec": {
   "display_name": "Python 3",
   "language": "python",
   "name": "python3"
  },
  "language_info": {
   "codemirror_mode": {
    "name": "ipython",
    "version": 3
   },
   "file_extension": ".py",
   "mimetype": "text/x-python",
   "name": "python",
   "nbconvert_exporter": "python",
   "pygments_lexer": "ipython3",
   "version": "3.7.3"
  }
 },
 "nbformat": 4,
 "nbformat_minor": 1
}
